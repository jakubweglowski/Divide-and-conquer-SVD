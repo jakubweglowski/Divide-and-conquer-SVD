{
 "cells": [
  {
   "cell_type": "code",
   "execution_count": 1,
   "metadata": {},
   "outputs": [],
   "source": [
    "import numpy as np"
   ]
  },
  {
   "cell_type": "code",
   "execution_count": 27,
   "metadata": {},
   "outputs": [],
   "source": [
    "# Teraz trzeba rozwiązać pełne zadanie własne macierzy D^2 + z*z^T\n",
    "# W tym celu stworzymy sobie inną macierz diagonalną D oraz inny wektor z\n",
    "D = np.diag([-0.11, 0.23, 0.23, 0.23, 0.38, 0.49, 1.13])\n",
    "z = np.array([0.13, -2.11, 0, 3.37, 5.18, 0.92, 0])\n",
    "\n",
    "N = D.shape[0]\n",
    "\n",
    "A = D + z.reshape((N, 1)) @ z.reshape((1, N))"
   ]
  },
  {
   "cell_type": "code",
   "execution_count": 28,
   "metadata": {},
   "outputs": [],
   "source": [
    "def count_elements(arr: np.array) -> dict:\n",
    "    \n",
    "    retdict = {}\n",
    "    for i, a in enumerate(arr):\n",
    "        if retdict.get(a) is None:\n",
    "            retdict[a] = [i]\n",
    "        else:\n",
    "            retdict[a].append(i)\n",
    "    return retdict\n",
    "\n",
    "ce = count_elements(np.diag(D))"
   ]
  },
  {
   "cell_type": "code",
   "execution_count": 29,
   "metadata": {},
   "outputs": [
    {
     "name": "stdout",
     "output_type": "stream",
     "text": [
      "0.23 jest 2-krotną wartością własną Ahat.\n"
     ]
    }
   ],
   "source": [
    "reps = False\n",
    "for key, val in ce.items():\n",
    "    if len(val) > 1:\n",
    "        reps = True\n",
    "        print(f\"{key} jest {len(val)-1}-krotną wartością własną Ahat.\")\n",
    "        i = val[0]\n",
    "        k = len(val)\n",
    "        temp_zhat = z[val]\n",
    "        \n",
    "        u = np.copy(temp_zhat)\n",
    "        u[-1] += np.linalg.norm(u)\n",
    "        v = u/np.linalg.norm(u)\n",
    "        Hi = np.eye(k) - 2 * v.reshape((k, 1)) @ v.reshape((1, k))\n",
    "        \n",
    "        H = np.block([\n",
    "                        [np.eye(i),               np.zeros((i, k)),         np.zeros((i, N-i-k))],\n",
    "                        [np.zeros((k, i)),        Hi,                       np.zeros((k, N-i-k))],\n",
    "                        [np.zeros((N-i-k, i)), np.zeros((N-i-k, k)),  np.eye(N-i-k)]\n",
    "                        ])\n",
    "        break\n",
    "if not reps:\n",
    "    print(f\"Macierz D nie zawiera powtórzeń na diagonali.\")"
   ]
  },
  {
   "cell_type": "code",
   "execution_count": 26,
   "metadata": {},
   "outputs": [
    {
     "data": {
      "text/plain": [
       "array([ 5.54500788e-17,  0.00000000e+00, -3.97605332e+00])"
      ]
     },
     "execution_count": 26,
     "metadata": {},
     "output_type": "execute_result"
    }
   ],
   "source": [
    "Hi @ temp_zhat"
   ]
  },
  {
   "cell_type": "code",
   "execution_count": 18,
   "metadata": {},
   "outputs": [],
   "source": [
    "ztilde = H @ z"
   ]
  },
  {
   "cell_type": "code",
   "execution_count": 16,
   "metadata": {},
   "outputs": [
    {
     "data": {
      "text/plain": [
       "array([[-9.31000000e-02,  1.92643728e-17,  0.00000000e+00,\n",
       "        -5.16886932e-01,  6.73400000e-01,  1.19600000e-01,\n",
       "         0.00000000e+00],\n",
       "       [ 1.92643728e-17,  2.30000000e-01,  0.00000000e+00,\n",
       "        -6.47803115e-17,  5.71443945e-17, -1.28256410e-16,\n",
       "         0.00000000e+00],\n",
       "       [ 0.00000000e+00,  0.00000000e+00,  2.30000000e-01,\n",
       "         0.00000000e+00,  0.00000000e+00,  0.00000000e+00,\n",
       "         0.00000000e+00],\n",
       "       [-5.16886932e-01, -1.10899829e-15,  0.00000000e+00,\n",
       "         1.60390000e+01, -2.05959562e+01, -3.65796905e+00,\n",
       "         0.00000000e+00],\n",
       "       [ 6.73400000e-01,  5.71443945e-17,  0.00000000e+00,\n",
       "        -2.05959562e+01,  2.72124000e+01,  4.76560000e+00,\n",
       "         0.00000000e+00],\n",
       "       [ 1.19600000e-01, -1.28256410e-16,  0.00000000e+00,\n",
       "        -3.65796905e+00,  4.76560000e+00,  1.33640000e+00,\n",
       "         0.00000000e+00],\n",
       "       [ 0.00000000e+00,  0.00000000e+00,  0.00000000e+00,\n",
       "         0.00000000e+00,  0.00000000e+00,  0.00000000e+00,\n",
       "         1.13000000e+00]])"
      ]
     },
     "execution_count": 16,
     "metadata": {},
     "output_type": "execute_result"
    }
   ],
   "source": [
    "H @ A @ H.T"
   ]
  },
  {
   "cell_type": "code",
   "execution_count": 19,
   "metadata": {},
   "outputs": [
    {
     "data": {
      "text/plain": [
       "array([[ True,  True,  True,  True,  True,  True,  True],\n",
       "       [ True,  True,  True,  True,  True,  True,  True],\n",
       "       [ True,  True,  True,  True,  True,  True,  True],\n",
       "       [ True,  True,  True,  True,  True,  True,  True],\n",
       "       [ True,  True,  True,  True,  True,  True,  True],\n",
       "       [ True,  True,  True,  True,  True,  True,  True],\n",
       "       [ True,  True,  True,  True,  True,  True,  True]])"
      ]
     },
     "execution_count": 19,
     "metadata": {},
     "output_type": "execute_result"
    }
   ],
   "source": [
    "np.isclose(D + ztilde.reshape((N, 1)) @ ztilde.reshape((1, N)), H @ A @ H.T)"
   ]
  },
  {
   "cell_type": "markdown",
   "metadata": {},
   "source": [
    "Wszystko wydaje się ok!\n",
    "\n",
    "Wartość własna odpowiadająca blokowi $d_i = d_{i+1} = ... = d_{i+k}$ na diagonali macierzy D jest równa $d_i$. Jak teraz odzyskać wektory własne?"
   ]
  }
 ],
 "metadata": {
  "kernelspec": {
   "display_name": "Python 3",
   "language": "python",
   "name": "python3"
  },
  "language_info": {
   "codemirror_mode": {
    "name": "ipython",
    "version": 3
   },
   "file_extension": ".py",
   "mimetype": "text/x-python",
   "name": "python",
   "nbconvert_exporter": "python",
   "pygments_lexer": "ipython3",
   "version": "3.11.0"
  }
 },
 "nbformat": 4,
 "nbformat_minor": 2
}
