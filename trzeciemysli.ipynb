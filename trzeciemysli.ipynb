{
 "cells": [
  {
   "cell_type": "code",
   "execution_count": 1,
   "metadata": {},
   "outputs": [],
   "source": [
    "import numpy as np"
   ]
  },
  {
   "cell_type": "markdown",
   "metadata": {},
   "source": [
    "# Plan działania\n",
    "Spróbujemy znaleźć rozkład:\n",
    "$$PAP^T = U\\Sigma V^T$$\n",
    "\n",
    "Wówczas rozkład SVD macierzy $A$ odzyskujemy jako:\n",
    "$$A = \\tilde{U}\\Sigma \\tilde{V}^T$$\n",
    "gdzie $\\tilde{U} = P^TU, \\tilde{V}^T = PV^T$. Celem jest połączenie efektów uzyskanych w plikach \"pierwszemysli\" oraz \"drugiemysli\".\n",
    "\n",
    "Uwaga: na razie w ogóle nie zajmujemy się macierzami $U$ oraz $V$ - szukamy tylko odpowiednich wartości własnych."
   ]
  },
  {
   "cell_type": "code",
   "execution_count": 79,
   "metadata": {},
   "outputs": [],
   "source": [
    "# Teraz trzeba rozwiązać pełne zadanie własne macierzy D^2 + z*z^T\n",
    "# W tym celu stworzymy sobie inną macierz diagonalną D oraz inny wektor z\n",
    "D = np.diag([-0.11, 0.23, 0.23, 0.23, 0.38, 0.49, 1.13])\n",
    "z = np.array([0.13, -2.11, 0, 3.37, 5.18, 0.92, 0])\n",
    "\n",
    "ind = sum(z == 0)\n",
    "perm = (z == 0)\n",
    "\n",
    "N = D.shape[0]\n",
    "\n",
    "A = D + z.reshape((N, 1)) @ z.reshape((1, N))"
   ]
  },
  {
   "cell_type": "code",
   "execution_count": 80,
   "metadata": {},
   "outputs": [],
   "source": [
    "# Permutujemy zgodnie z notatkami\n",
    "PAPt = np.block([\n",
    "    [A[perm, :][:, perm], A[perm, :][:, ~perm]],\n",
    "    [A[~perm, :][:, perm], A[~perm, :][:, ~perm]]\n",
    "]) # przepermutowane A, czyli macierz P*A*P'\n",
    "\n",
    "PDPt = np.diag(np.hstack((np.diag(D)[perm], np.diag(D)[~perm])))\n",
    "\n",
    "Ahat = A[~perm, :][:, ~perm] # to, co zostało do rozłożenia z macierzy \"A\" (prawy dolny róg PAPt)\n",
    "Dhat = D[~perm, :][:, ~perm] # odpowiadająca pozostałość macierzy \"D\"\n",
    "zhat = z[~perm] # niezerowe elementy \"z\"\n",
    "\n",
    "Pz = np.hstack((z[perm], z[~perm])) # przepermutowany \"z\""
   ]
  },
  {
   "cell_type": "markdown",
   "metadata": {},
   "source": [
    "Szybkie sprawdzenie: powinno być $\\hat{A} = \\hat{D} + \\hat{z}\\hat{z}^T$."
   ]
  },
  {
   "cell_type": "code",
   "execution_count": 81,
   "metadata": {},
   "outputs": [
    {
     "data": {
      "text/plain": [
       "True"
      ]
     },
     "execution_count": 81,
     "metadata": {},
     "output_type": "execute_result"
    }
   ],
   "source": [
    "np.all(np.isclose(Ahat, Dhat + zhat.reshape((N-ind, 1))@zhat.reshape((1, N-ind))))"
   ]
  },
  {
   "cell_type": "markdown",
   "metadata": {},
   "source": [
    "Wszystko działa, zatem idziemy dalej."
   ]
  },
  {
   "cell_type": "code",
   "execution_count": 82,
   "metadata": {},
   "outputs": [],
   "source": [
    "def count_elements(arr: np.array) -> dict:\n",
    "    \n",
    "    retdict = {}\n",
    "    for i, a in enumerate(arr):\n",
    "        if retdict.get(a) is None:\n",
    "            retdict[a] = [i]\n",
    "        else:\n",
    "            retdict[a].append(i)\n",
    "    return retdict\n",
    "\n",
    "ce = count_elements(np.diag(Dhat))"
   ]
  },
  {
   "cell_type": "code",
   "execution_count": 83,
   "metadata": {},
   "outputs": [],
   "source": [
    "Nhat = Ahat.shape[0]"
   ]
  },
  {
   "cell_type": "code",
   "execution_count": 84,
   "metadata": {},
   "outputs": [
    {
     "name": "stdout",
     "output_type": "stream",
     "text": [
      "0.23 jest 1-krotną wartością własną Ahat.\n"
     ]
    }
   ],
   "source": [
    "for key, val in ce.items():\n",
    "    if len(val) > 1:\n",
    "        reps = True\n",
    "        print(f\"{key} jest {len(val)-1}-krotną wartością własną Ahat.\")\n",
    "        i = val[0]\n",
    "        k = len(val)\n",
    "        temp_zhat = zhat[val]\n",
    "        \n",
    "        u = np.copy(temp_zhat)\n",
    "        u[-1] += np.linalg.norm(u)\n",
    "        v = u/np.linalg.norm(u)\n",
    "        Hi = np.eye(k) - 2 * v.reshape((k, 1)) @ v.reshape((1, k))\n",
    "        \n",
    "        H = np.block([\n",
    "                        [np.eye(i),               np.zeros((i, k)),         np.zeros((i, Nhat-i-k))],\n",
    "                        [np.zeros((k, i)),        Hi,                       np.zeros((k, Nhat-i-k))],\n",
    "                        [np.zeros((Nhat-i-k, i)), np.zeros((Nhat-i-k, k)),  np.eye(Nhat-i-k)]\n",
    "                        ])\n",
    "        break\n",
    "if not reps:\n",
    "    print(f\"Macierz Dhat nie zawiera powtórzeń na diagonali.\")"
   ]
  },
  {
   "cell_type": "code",
   "execution_count": 85,
   "metadata": {},
   "outputs": [
    {
     "data": {
      "text/plain": [
       "array([[ -0.0931,  -0.2743,   0.4381,   0.6734,   0.1196],\n",
       "       [ -0.2743,   4.6821,  -7.1107, -10.9298,  -1.9412],\n",
       "       [  0.4381,  -7.1107,  11.5869,  17.4566,   3.1004],\n",
       "       [  0.6734, -10.9298,  17.4566,  27.2124,   4.7656],\n",
       "       [  0.1196,  -1.9412,   3.1004,   4.7656,   1.3364]])"
      ]
     },
     "execution_count": 85,
     "metadata": {},
     "output_type": "execute_result"
    }
   ],
   "source": [
    "Ahat"
   ]
  },
  {
   "cell_type": "code",
   "execution_count": 86,
   "metadata": {},
   "outputs": [],
   "source": [
    "ztilde = H @ zhat"
   ]
  },
  {
   "cell_type": "code",
   "execution_count": 87,
   "metadata": {},
   "outputs": [
    {
     "data": {
      "text/plain": [
       "True"
      ]
     },
     "execution_count": 87,
     "metadata": {},
     "output_type": "execute_result"
    }
   ],
   "source": [
    "np.all(np.isclose(Dhat + ztilde.reshape((Nhat, 1)) @ ztilde.reshape((1, Nhat)), H @ Ahat @ H.T))"
   ]
  },
  {
   "cell_type": "code",
   "execution_count": 88,
   "metadata": {},
   "outputs": [
    {
     "data": {
      "text/plain": [
       "array([[ 1.        ,  0.        ,  0.        ,  0.        ,  0.        ],\n",
       "       [ 0.        ,  0.84757415,  0.53067699,  0.        ,  0.        ],\n",
       "       [ 0.        ,  0.53067699, -0.84757415,  0.        ,  0.        ],\n",
       "       [ 0.        ,  0.        ,  0.        ,  1.        ,  0.        ],\n",
       "       [ 0.        ,  0.        ,  0.        ,  0.        ,  1.        ]])"
      ]
     },
     "execution_count": 88,
     "metadata": {},
     "output_type": "execute_result"
    }
   ],
   "source": [
    "H"
   ]
  },
  {
   "cell_type": "markdown",
   "metadata": {},
   "source": [
    "Zdefiniujmy jeszcze blokową macierz $HH = \\begin{bmatrix} I & 0 \\\\ 0 & H\\end{bmatrix}$ i na niej sprawdźmy kilka działań.\n",
    "\n",
    "Uwaga: poniżej cały czas działamy na macierzach spermutowanych!"
   ]
  },
  {
   "cell_type": "code",
   "execution_count": 89,
   "metadata": {},
   "outputs": [],
   "source": [
    "HH = np.block([\n",
    "    [np.eye(ind), np.zeros((ind, N-ind))],\n",
    "    [np.zeros((N-ind, ind)), H]\n",
    "    ])"
   ]
  },
  {
   "cell_type": "code",
   "execution_count": 94,
   "metadata": {},
   "outputs": [
    {
     "data": {
      "text/plain": [
       "array([ 0.        ,  0.        ,  0.13      ,  0.        , -3.97605332,\n",
       "        5.18      ,  0.92      ])"
      ]
     },
     "execution_count": 94,
     "metadata": {},
     "output_type": "execute_result"
    }
   ],
   "source": [
    "ZTilde = HH @ Pz\n",
    "ZTilde # działanie na przepermutowanym wektorze \"z\" jest ok"
   ]
  },
  {
   "cell_type": "code",
   "execution_count": 91,
   "metadata": {},
   "outputs": [
    {
     "data": {
      "text/plain": [
       "array([[ 2.30000000e-01,  0.00000000e+00,  0.00000000e+00,\n",
       "         0.00000000e+00,  0.00000000e+00,  0.00000000e+00,\n",
       "         0.00000000e+00],\n",
       "       [ 0.00000000e+00,  1.13000000e+00,  0.00000000e+00,\n",
       "         0.00000000e+00,  0.00000000e+00,  0.00000000e+00,\n",
       "         0.00000000e+00],\n",
       "       [ 0.00000000e+00,  0.00000000e+00, -9.31000000e-02,\n",
       "         1.92643728e-17, -5.16886932e-01,  6.73400000e-01,\n",
       "         1.19600000e-01],\n",
       "       [ 0.00000000e+00,  0.00000000e+00,  1.92643728e-17,\n",
       "         2.30000000e-01, -6.47803115e-17,  5.71443945e-17,\n",
       "        -1.28256410e-16],\n",
       "       [ 0.00000000e+00,  0.00000000e+00, -5.16886932e-01,\n",
       "        -1.10899829e-15,  1.60390000e+01, -2.05959562e+01,\n",
       "        -3.65796905e+00],\n",
       "       [ 0.00000000e+00,  0.00000000e+00,  6.73400000e-01,\n",
       "         5.71443945e-17, -2.05959562e+01,  2.72124000e+01,\n",
       "         4.76560000e+00],\n",
       "       [ 0.00000000e+00,  0.00000000e+00,  1.19600000e-01,\n",
       "        -1.28256410e-16, -3.65796905e+00,  4.76560000e+00,\n",
       "         1.33640000e+00]])"
      ]
     },
     "execution_count": 91,
     "metadata": {},
     "output_type": "execute_result"
    }
   ],
   "source": [
    "HH @ PAPt @ HH.T"
   ]
  },
  {
   "cell_type": "code",
   "execution_count": 95,
   "metadata": {},
   "outputs": [
    {
     "data": {
      "text/plain": [
       "True"
      ]
     },
     "execution_count": 95,
     "metadata": {},
     "output_type": "execute_result"
    }
   ],
   "source": [
    "np.all(np.isclose(PDPt + ZTilde.reshape((N, 1)) @ ZTilde.reshape((1, N)), HH @ PAPt @ HH.T))"
   ]
  },
  {
   "cell_type": "markdown",
   "metadata": {},
   "source": [
    "Teraz: zgodnie z notatkami, powinno się łatwo dać odzyskać wartości własne i wektory własne macierzy $H\\hat{A} H^T$."
   ]
  }
 ],
 "metadata": {
  "kernelspec": {
   "display_name": "Python 3",
   "language": "python",
   "name": "python3"
  },
  "language_info": {
   "codemirror_mode": {
    "name": "ipython",
    "version": 3
   },
   "file_extension": ".py",
   "mimetype": "text/x-python",
   "name": "python",
   "nbconvert_exporter": "python",
   "pygments_lexer": "ipython3",
   "version": "3.11.0"
  }
 },
 "nbformat": 4,
 "nbformat_minor": 2
}
