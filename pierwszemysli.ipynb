{
 "cells": [
  {
   "cell_type": "code",
   "execution_count": 1,
   "metadata": {},
   "outputs": [],
   "source": [
    "import numpy as np"
   ]
  },
  {
   "cell_type": "code",
   "execution_count": 37,
   "metadata": {},
   "outputs": [
    {
     "data": {
      "text/plain": [
       "array([[0.5488135 , 0.64589411, 0.        , 0.        , 0.        ],\n",
       "       [0.        , 0.71518937, 0.43758721, 0.        , 0.        ],\n",
       "       [0.        , 0.        , 0.60276338, 0.891773  , 0.        ],\n",
       "       [0.        , 0.        , 0.        , 0.54488318, 0.96366276],\n",
       "       [0.        , 0.        , 0.        , 0.        , 0.4236548 ]])"
      ]
     },
     "execution_count": 37,
     "metadata": {},
     "output_type": "execute_result"
    }
   ],
   "source": [
    "# Tworzenie macierzy dwudiagonalnej:\n",
    "\n",
    "np.random.seed(0)\n",
    "q = np.random.rand(5) # główna diagonala\n",
    "r = np.random.rand(4) # naddiagonala\n",
    "B1 = np.diag(q)\n",
    "B2 = np.diag(r, k=1)\n",
    "B = B1 + B2\n",
    "B"
   ]
  },
  {
   "cell_type": "code",
   "execution_count": 56,
   "metadata": {},
   "outputs": [],
   "source": [
    "# Znajdowanie podziału macierzy B na B1, B2\n",
    "\n",
    "m = B.shape[0]//2 # wiersz podziału\n",
    "B1 = B[:m, :(m+1)]\n",
    "B2 = B[(m+1):, (m+1):]\n",
    "qm = B[m, m]\n",
    "rm = B[m, m+1]"
   ]
  },
  {
   "cell_type": "code",
   "execution_count": 57,
   "metadata": {},
   "outputs": [
    {
     "data": {
      "text/plain": [
       "array([[0.5488135 , 0.64589411, 0.        ],\n",
       "       [0.        , 0.71518937, 0.43758721]])"
      ]
     },
     "execution_count": 57,
     "metadata": {},
     "output_type": "execute_result"
    }
   ],
   "source": [
    "B1"
   ]
  },
  {
   "cell_type": "code",
   "execution_count": 58,
   "metadata": {},
   "outputs": [
    {
     "data": {
      "text/plain": [
       "array([[0.54488318, 0.96366276],\n",
       "       [0.        , 0.4236548 ]])"
      ]
     },
     "execution_count": 58,
     "metadata": {},
     "output_type": "execute_result"
    }
   ],
   "source": [
    "B2"
   ]
  },
  {
   "cell_type": "code",
   "execution_count": 59,
   "metadata": {},
   "outputs": [
    {
     "data": {
      "text/plain": [
       "(0.6027633760716439, 0.8917730007820798)"
      ]
     },
     "execution_count": 59,
     "metadata": {},
     "output_type": "execute_result"
    }
   ],
   "source": [
    "qm, rm"
   ]
  },
  {
   "cell_type": "code",
   "execution_count": 60,
   "metadata": {},
   "outputs": [],
   "source": [
    "from scipy.linalg import svd"
   ]
  },
  {
   "cell_type": "code",
   "execution_count": 70,
   "metadata": {},
   "outputs": [],
   "source": [
    "U1, S1, V1T = svd(B1)\n",
    "U2, S2, V2T = svd(B2)"
   ]
  },
  {
   "cell_type": "code",
   "execution_count": 71,
   "metadata": {},
   "outputs": [
    {
     "data": {
      "text/plain": [
       "array([[-0.3613342 , -0.88834382, -0.28334228],\n",
       "       [-0.77169161,  0.11433601,  0.62563514],\n",
       "       [ 0.52338289, -0.44471623,  0.72684099]])"
      ]
     },
     "execution_count": 71,
     "metadata": {},
     "output_type": "execute_result"
    }
   ],
   "source": [
    "V1T"
   ]
  },
  {
   "cell_type": "code",
   "execution_count": 72,
   "metadata": {},
   "outputs": [
    {
     "data": {
      "text/plain": [
       "array([[ 0.44083771,  0.89758683],\n",
       "       [-0.89758683,  0.44083771]])"
      ]
     },
     "execution_count": 72,
     "metadata": {},
     "output_type": "execute_result"
    }
   ],
   "source": [
    "V2T"
   ]
  },
  {
   "cell_type": "code",
   "execution_count": 79,
   "metadata": {},
   "outputs": [
    {
     "name": "stdout",
     "output_type": "stream",
     "text": [
      "[-0.17078835  0.37710995]\n",
      "0.7268409887895942\n",
      "[ 0.39312717 -0.8004437 ]\n",
      "[ 0.72684099 -0.17078835  0.37710995  0.39312717 -0.8004437 ]\n"
     ]
    }
   ],
   "source": [
    "l1 = V1T[:-1, -1]; print(qm*l1)\n",
    "nu = V1T[-1, -1]; print(nu)\n",
    "\n",
    "f2 = V2T[:, 0]; print(rm*f2)\n",
    "\n",
    "z = np.hstack((nu, qm*l1, rm*f2)); print(z)"
   ]
  },
  {
   "cell_type": "code",
   "execution_count": 92,
   "metadata": {},
   "outputs": [
    {
     "name": "stdout",
     "output_type": "stream",
     "text": [
      "[0.         1.08290243 0.49867443 1.16876733 0.19750926]\n",
      "[[0.         0.         0.         0.         0.        ]\n",
      " [0.         1.08290243 0.         0.         0.        ]\n",
      " [0.         0.         0.49867443 0.         0.        ]\n",
      " [0.         0.         0.         1.16876733 0.        ]\n",
      " [0.         0.         0.         0.         0.19750926]]\n"
     ]
    }
   ],
   "source": [
    "d = np.hstack((0, S1, S2)); print(d)\n",
    "D = np.diag(d); print(D)"
   ]
  },
  {
   "cell_type": "code",
   "execution_count": 91,
   "metadata": {},
   "outputs": [
    {
     "data": {
      "text/plain": [
       "1.1728889999999998"
      ]
     },
     "execution_count": 91,
     "metadata": {},
     "output_type": "execute_result"
    }
   ],
   "source": [
    "1.083*1.083"
   ]
  },
  {
   "cell_type": "code",
   "execution_count": 374,
   "metadata": {},
   "outputs": [],
   "source": [
    "# Teraz trzeba rozwiązać pełne zadanie własne macierzy D^2 + z*z^T\n",
    "# W tym celu stworzymy sobie inną macierz diagonalną D oraz inny wektor z\n",
    "D = np.diag([-0.11, 0.23, 0.23, 0.23, 0.38, 0.49, 1.13])\n",
    "z = np.array([0.13, -2.11, 0, 3.37, 5.18, 0.92, 0])\n",
    "\n",
    "ind = sum(z == 0)\n",
    "perm = (z == 0)\n",
    "\n",
    "N = D.shape[0]\n",
    "\n",
    "A = D + z.reshape((N, 1)) @ z.reshape((1, N))"
   ]
  },
  {
   "cell_type": "code",
   "execution_count": 375,
   "metadata": {},
   "outputs": [],
   "source": [
    "# Przypadek 1: z_i = 0\n",
    "# wektor własny = e_i\n",
    "# wypełniamy odpowiednio macierz U\n",
    "U = np.zeros((N, N))\n",
    "for i in np.where(z == 0)[0]:\n",
    "    U[:, i] = np.hstack([[0]*i, 1, [0]*(N-i-1)])\n",
    "\n",
    "# Permutujemy zgodnie z notatkami\n",
    "PAPt = np.block([\n",
    "    [A[z==0, :][:, z==0], A[z==0, :][:, z!=0]],\n",
    "    [A[z!=0, :][:, z==0], A[z!=0, :][:, z!=0]]\n",
    "]) # to jest macierz P*A*P'\n",
    "\n",
    "z = np.hstack((z[z==0], z[z!=0])) # przepermutowany \"z\"\n",
    "zhat = z[z!=0] # niezerowe elementy \"z\"\n",
    "\n",
    "U = np.hstack((U[:, z==0], U[:, z!=0])) # w U kolumnowo idą tylko wektory własne, więc zamieniamy tylko kolumny"
   ]
  },
  {
   "cell_type": "code",
   "execution_count": 376,
   "metadata": {},
   "outputs": [],
   "source": [
    "# P = np.diag([1]*N)\n",
    "# P = np.vstack((P[z==0], P[z!=0]))\n",
    "# PAP_T = P @ A @ P.T\n",
    "\n",
    "# Ahat = PAP_T[ind:, ind:]; print(Ahat)"
   ]
  },
  {
   "cell_type": "code",
   "execution_count": 377,
   "metadata": {},
   "outputs": [
    {
     "data": {
      "text/plain": [
       "array([[ -0.0931,  -0.2743,   0.4381,   0.6734,   0.1196],\n",
       "       [ -0.2743,   4.6821,  -7.1107, -10.9298,  -1.9412],\n",
       "       [  0.4381,  -7.1107,  11.5869,  17.4566,   3.1004],\n",
       "       [  0.6734, -10.9298,  17.4566,  27.2124,   4.7656],\n",
       "       [  0.1196,  -1.9412,   3.1004,   4.7656,   1.3364]])"
      ]
     },
     "execution_count": 377,
     "metadata": {},
     "output_type": "execute_result"
    }
   ],
   "source": [
    "# Teraz należy znaleźć rozkład spektralny macierzy:\n",
    "Ahat = PAPt[ind:, ind:]; Ahat"
   ]
  },
  {
   "cell_type": "code",
   "execution_count": 378,
   "metadata": {},
   "outputs": [
    {
     "data": {
      "text/plain": [
       "array([[0.23, 0.  ],\n",
       "       [0.  , 1.13]])"
      ]
     },
     "execution_count": 378,
     "metadata": {},
     "output_type": "execute_result"
    }
   ],
   "source": [
    "D1 = np.diag(D[perm, perm]); D1"
   ]
  },
  {
   "cell_type": "code",
   "execution_count": 379,
   "metadata": {},
   "outputs": [
    {
     "data": {
      "text/plain": [
       "array([[-0.11,  0.  ,  0.  ,  0.  ,  0.  ],\n",
       "       [ 0.  ,  0.23,  0.  ,  0.  ,  0.  ],\n",
       "       [ 0.  ,  0.  ,  0.23,  0.  ,  0.  ],\n",
       "       [ 0.  ,  0.  ,  0.  ,  0.38,  0.  ],\n",
       "       [ 0.  ,  0.  ,  0.  ,  0.  ,  0.49]])"
      ]
     },
     "execution_count": 379,
     "metadata": {},
     "output_type": "execute_result"
    }
   ],
   "source": [
    "Dhat = np.diag(D[~perm, ~perm]); Dhat"
   ]
  },
  {
   "cell_type": "code",
   "execution_count": 380,
   "metadata": {},
   "outputs": [
    {
     "data": {
      "text/plain": [
       "array([[-0.11,  0.  ,  0.  ,  0.  ,  0.  ],\n",
       "       [ 0.  ,  0.23,  0.  ,  0.  ,  0.  ],\n",
       "       [ 0.  ,  0.  ,  0.23,  0.  ,  0.  ],\n",
       "       [ 0.  ,  0.  ,  0.  ,  0.38,  0.  ],\n",
       "       [ 0.  ,  0.  ,  0.  ,  0.  ,  0.49]])"
      ]
     },
     "execution_count": 380,
     "metadata": {},
     "output_type": "execute_result"
    }
   ],
   "source": [
    "# ta macierz powinna być równa D1\n",
    "Ahat - zhat.reshape((N-ind, 1)) @ zhat.reshape((1, N-ind))\n",
    "# i jest!"
   ]
  },
  {
   "cell_type": "code",
   "execution_count": 381,
   "metadata": {},
   "outputs": [],
   "source": [
    "# Przypadek 2: \n",
    "def count_elements(arr: np.array) -> dict:\n",
    "    \n",
    "    retdict = {}\n",
    "    for i, a in enumerate(arr):\n",
    "        if retdict.get(a) is None:\n",
    "            retdict[a] = [i]\n",
    "        else:\n",
    "            retdict[a].append(i)\n",
    "    return retdict\n",
    "\n",
    "ce = count_elements(np.diag(D))"
   ]
  },
  {
   "cell_type": "code",
   "execution_count": 382,
   "metadata": {},
   "outputs": [
    {
     "data": {
      "text/plain": [
       "array([[ -0.0931,  -0.2743,   0.4381,   0.6734,   0.1196],\n",
       "       [ -0.2743,   4.6821,  -7.1107, -10.9298,  -1.9412],\n",
       "       [  0.4381,  -7.1107,  11.5869,  17.4566,   3.1004],\n",
       "       [  0.6734, -10.9298,  17.4566,  27.2124,   4.7656],\n",
       "       [  0.1196,  -1.9412,   3.1004,   4.7656,   1.3364]])"
      ]
     },
     "execution_count": 382,
     "metadata": {},
     "output_type": "execute_result"
    }
   ],
   "source": [
    "Mhat, Nhat = Ahat.shape\n",
    "Ahat"
   ]
  },
  {
   "cell_type": "code",
   "execution_count": 417,
   "metadata": {},
   "outputs": [
    {
     "name": "stdout",
     "output_type": "stream",
     "text": [
      "0.23 jest 2-krotną wartością własną Ahat.\n"
     ]
    }
   ],
   "source": [
    "for key, val in ce.items():\n",
    "    if len(val) > 1:\n",
    "        print(f\"{key} jest {len(val)-1}-krotną wartością własną Ahat.\")\n",
    "        i = val[0]\n",
    "        k = len(val)\n",
    "        temp_zhat = zhat[i:(i+k)]\n",
    "        \n",
    "        u = np.copy(temp_zhat)\n",
    "        u[-1] += np.linalg.norm(u)\n",
    "        v = u/np.linalg.norm(u)\n",
    "        Hi = np.eye(k) - 2 * v.reshape((k, 1)) @ v.reshape((1, k))"
   ]
  },
  {
   "cell_type": "code",
   "execution_count": 423,
   "metadata": {},
   "outputs": [
    {
     "data": {
      "text/plain": [
       "array([ 0.  ,  0.  ,  0.13, -2.11,  3.37,  5.18,  0.92])"
      ]
     },
     "execution_count": 423,
     "metadata": {},
     "output_type": "execute_result"
    }
   ],
   "source": [
    "z"
   ]
  },
  {
   "cell_type": "code",
   "execution_count": 411,
   "metadata": {},
   "outputs": [],
   "source": [
    "H = np.block([\n",
    "    [np.eye(ind+i),               np.zeros((ind+i, k)),         np.zeros((ind+i, Nhat-i-k))],\n",
    "    [np.zeros((k, ind+i)),        Hi,                       np.zeros((k, Nhat-i-k))],\n",
    "    [np.zeros((Nhat-i-k, ind+i)), np.zeros((Nhat-i-k, k)),  np.eye(Nhat-i-k)]\n",
    "    ])"
   ]
  },
  {
   "cell_type": "code",
   "execution_count": 412,
   "metadata": {},
   "outputs": [
    {
     "data": {
      "text/plain": [
       "(7, 7)"
      ]
     },
     "execution_count": 412,
     "metadata": {},
     "output_type": "execute_result"
    }
   ],
   "source": [
    "H.shape"
   ]
  },
  {
   "cell_type": "code",
   "execution_count": 413,
   "metadata": {},
   "outputs": [
    {
     "data": {
      "text/plain": [
       "array([[-0.11,  0.  ,  0.  ,  0.  ,  0.  ,  0.  ,  0.  ],\n",
       "       [ 0.  ,  0.23,  0.  ,  0.  ,  0.  ,  0.  ,  0.  ],\n",
       "       [ 0.  ,  0.  ,  0.23,  0.  ,  0.  ,  0.  ,  0.  ],\n",
       "       [ 0.  ,  0.  ,  0.  ,  0.23,  0.  ,  0.  ,  0.  ],\n",
       "       [ 0.  ,  0.  ,  0.  ,  0.  ,  0.38,  0.  ,  0.  ],\n",
       "       [ 0.  ,  0.  ,  0.  ,  0.  ,  0.  ,  0.49,  0.  ],\n",
       "       [ 0.  ,  0.  ,  0.  ,  0.  ,  0.  ,  0.  ,  1.13]])"
      ]
     },
     "execution_count": 413,
     "metadata": {},
     "output_type": "execute_result"
    }
   ],
   "source": [
    "D"
   ]
  },
  {
   "cell_type": "code",
   "execution_count": 406,
   "metadata": {},
   "outputs": [],
   "source": [
    "x = H @ A @ H.T"
   ]
  },
  {
   "cell_type": "code",
   "execution_count": 409,
   "metadata": {},
   "outputs": [
    {
     "data": {
      "text/plain": [
       "array([[False, False, False, False, False, False,  True],\n",
       "       [False, False, False, False, False, False, False],\n",
       "       [False, False, False, False, False, False, False],\n",
       "       [False, False, False, False, False, False, False],\n",
       "       [False, False, False, False, False, False, False],\n",
       "       [False, False, False, False, False, False, False],\n",
       "       [ True, False, False, False, False, False, False]])"
      ]
     },
     "execution_count": 409,
     "metadata": {},
     "output_type": "execute_result"
    }
   ],
   "source": [
    "np.isclose(D + ztilde.reshape((N, 1)) @ ztilde.reshape((1, N)), x)"
   ]
  }
 ],
 "metadata": {
  "kernelspec": {
   "display_name": "Python 3",
   "language": "python",
   "name": "python3"
  },
  "language_info": {
   "codemirror_mode": {
    "name": "ipython",
    "version": 3
   },
   "file_extension": ".py",
   "mimetype": "text/x-python",
   "name": "python",
   "nbconvert_exporter": "python",
   "pygments_lexer": "ipython3",
   "version": "3.11.0"
  }
 },
 "nbformat": 4,
 "nbformat_minor": 2
}
