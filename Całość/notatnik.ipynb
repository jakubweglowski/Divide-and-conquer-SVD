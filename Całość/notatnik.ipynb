{
 "cells": [
  {
   "cell_type": "markdown",
   "metadata": {},
   "source": [
    "Teraz, mając rozkład $M^TM = \\bar{U} \\Sigma \\bar{U}^{-1}$, trzeba się zastanowić co dalej -- jak zrobić z tego SVD macierzy $M$?\n",
    "\n",
    "Niech $M = X\\Lambda Y^T$ będzie szukanym SVD. Wiemy, że:\n",
    "1. $\\Lambda$ jest diagonalna i na diagonali ma pierwiastki z elementów diagonali $\\Sigma$.\n",
    "2. kolumny $Y$ są wektorami własnymi $M^TM$, czyli $Y = \\bar{U}$. Jak teraz wyznaczyć $X$?\n",
    "3. skoro znamy $M$, to mając równość $M = X\\Lambda Y^T$ mamy $X = M(\\Lambda Y^T)^{-1} = MY^{-T}\\Lambda^{-1} = MY\\Lambda^{-1}$.\n",
    "\n",
    "Wówczas, skoro $M = P_m C P_m^T$, to $C = P_m ^T M P_m = P_m ^T X \\Lambda Y^T P_m$, czyli:\n",
    "$$B = \\begin{bmatrix}\n",
    "U_1 & 0 & 0\\\\\n",
    "0 & 1 & 0\\\\\n",
    "0 & 0 & U_2\n",
    "\\end{bmatrix}P_m ^T X \\Lambda Y^T P_m\\begin{bmatrix}\n",
    "V_1 ^T & 0\\\\\n",
    "0 & V_2 ^T\n",
    "\\end{bmatrix}$$"
   ]
  },
  {
   "cell_type": "markdown",
   "metadata": {},
   "source": [
    "# SVD dla bidiagonalnej działa!\n",
    "Teraz trzeba nauczyć się sprowadzać dowolną macierz $A$ do postaci bidiagonalnej"
   ]
  },
  {
   "cell_type": "code",
   "execution_count": 131,
   "metadata": {},
   "outputs": [],
   "source": [
    "import numpy as np\n",
    "from numpy.linalg import norm"
   ]
  },
  {
   "cell_type": "code",
   "execution_count": 253,
   "metadata": {},
   "outputs": [
    {
     "name": "stdout",
     "output_type": "stream",
     "text": [
      "Przed wejściem do pętli: B=\n",
      "[[0.5488135  0.71518937 0.60276338 0.54488318]\n",
      " [0.4236548  0.64589411 0.43758721 0.891773  ]\n",
      " [0.96366276 0.38344152 0.79172504 0.52889492]\n",
      " [0.56804456 0.92559664 0.07103606 0.0871293 ]]\n",
      "\n",
      "KROK 0\n",
      "\n",
      "Hleft=\n",
      "[[-0.41701418 -0.32191274 -0.73223605 -0.43162684]\n",
      " [-0.32191274  0.9268689  -0.16634704 -0.0980556 ]\n",
      " [-0.73223605 -0.16634704  0.62162013 -0.22304133]\n",
      " [-0.43162684 -0.0980556  -0.22304133  0.86852515]]\n",
      "\n",
      "Hleft * B=\n",
      "[[-1.31605478e+00 -1.18644770e+00 -1.00261646e+00 -9.39180375e-01]\n",
      " [-1.16416224e-16  2.13886300e-01  7.28821667e-02  5.54628199e-01]\n",
      " [-3.48076506e-16 -5.99221353e-01 -3.78481678e-02 -2.37988616e-01]\n",
      " [-1.52929760e-16  3.46352194e-01 -4.17967530e-01 -3.64920981e-01]]\n",
      "\n",
      "U0T * A=\n",
      "[[-1.31605478e+00 -1.18644770e+00 -1.00261646e+00 -9.39180375e-01]\n",
      " [-1.16416224e-16  2.13886300e-01  7.28821667e-02  5.54628199e-01]\n",
      " [-3.48076506e-16 -5.99221353e-01 -3.78481678e-02 -2.37988616e-01]\n",
      " [-1.52929760e-16  3.46352194e-01 -4.17967530e-01 -3.64920981e-01]]\n",
      "\n",
      "Hright=\n",
      "[[ 1.          0.          0.          0.        ]\n",
      " [ 0.          0.65361751  0.55234434  0.51739722]\n",
      " [ 0.          0.55234434  0.11922721 -0.82504582]\n",
      " [ 0.          0.51739722 -0.82504582  0.22715528]]\n",
      "\n",
      "B * Hright=\n",
      "[[-1.31605478e+00 -1.81520183e+00 -2.47163732e-16 -1.63293485e-17]\n",
      " [-1.16416224e-16  4.67018969e-01 -3.30765251e-01  1.76519771e-01]\n",
      " [-3.48076506e-16 -5.35701438e-01 -1.39137543e-01 -3.32869357e-01]\n",
      " [-1.52929760e-16 -1.93289241e-01  4.42549099e-01  4.41150298e-01]]\n",
      "\n",
      "A * V0=\n",
      "[[ 0.5488135   1.08231427  0.01734301 -0.00349733]\n",
      " [ 0.4236548   1.12526739 -0.32682532  0.17572526]\n",
      " [ 0.96366276  0.96157769 -0.13017562 -0.33467659]\n",
      " [ 0.56804456  0.68930299  0.44783183  0.440085  ]]\n",
      "\n",
      "KROK 1\n",
      "\n",
      "Hleft=\n",
      "[[ 1.          0.          0.          0.        ]\n",
      " [ 0.         -0.6340993   0.72735355  0.26244024]\n",
      " [ 0.          0.72735355  0.67624783 -0.11681472]\n",
      " [ 0.          0.26244024 -0.11681472  0.95785147]]\n",
      "\n",
      "Hleft * B=\n",
      "[[-1.31605478e+00 -1.81520183e+00 -2.47163732e-16 -1.63293485e-17]\n",
      " [-2.19490161e-16 -7.36507623e-01  2.24678522e-01 -2.38269182e-01]\n",
      " [-3.02197290e-16  1.16940332e-17 -3.86370990e-01 -1.48242744e-01]\n",
      " [-1.36375840e-16  2.06406204e-17  3.53343505e-01  5.07766392e-01]]\n",
      "\n",
      "U0T * A=\n",
      "[[-1.31605478e+00 -1.18644770e+00 -1.00261646e+00 -9.39180375e-01]\n",
      " [-2.53087681e-16 -4.80574180e-01 -1.83435031e-01 -6.20561171e-01]\n",
      " [-3.25490139e-16 -2.90110213e-01  7.62411196e-02  2.85099647e-01]\n",
      " [-1.15031288e-16  4.57884203e-01 -3.76802377e-01 -1.76182766e-01]]\n",
      "\n",
      "Hright=\n",
      "[[ 1.          0.          0.          0.        ]\n",
      " [ 0.          1.          0.          0.        ]\n",
      " [ 0.          0.         -0.68605283  0.72755173]\n",
      " [ 0.          0.          0.72755173  0.68605283]]\n",
      "\n",
      "B * Hright=\n",
      "[[-1.31605478e+00 -1.81520183e+00  1.57686932e-16 -1.91027196e-16]\n",
      " [-2.19490161e-16 -7.36507623e-01 -3.27494491e-01  1.80562826e-17]\n",
      " [-3.02197290e-16  1.16940332e-17  1.57216646e-01 -3.82807235e-01]\n",
      " [-1.36375840e-16  2.06406204e-17  1.27014004e-01  6.05430248e-01]]\n",
      "\n",
      "A * V0=\n",
      "[[ 0.5488135   1.08231427 -0.0144427   0.01021858]\n",
      " [ 0.4236548   1.12526739  0.35206865 -0.11722552]\n",
      " [ 0.96366276  0.96157769 -0.15418718 -0.32431531]\n",
      " [ 0.56804456  0.68930299  0.01294831  0.62774238]]\n",
      "\n",
      "KROK 2\n",
      "\n",
      "Hleft=\n",
      "[[ 1.          0.          0.          0.        ]\n",
      " [ 0.          1.          0.          0.        ]\n",
      " [ 0.          0.         -0.77786541 -0.62843091]\n",
      " [ 0.          0.         -0.62843091  0.77786541]]\n",
      "\n",
      "Hleft * B=\n",
      "[[-1.31605478e+00 -1.81520183e+00  1.57686932e-16 -1.91027196e-16]\n",
      " [-2.19490161e-16 -7.36507623e-01 -3.27494491e-01  1.80562826e-17]\n",
      " [ 3.20771612e-16 -2.20675878e-17 -2.02112917e-01 -8.26985747e-02]\n",
      " [ 8.38280692e-17  8.70673270e-18 -1.37906911e-17  7.11511145e-01]]\n",
      "\n",
      "U0T * A=\n",
      "[[-1.31605478e+00 -1.18644770e+00 -1.00261646e+00 -9.39180375e-01]\n",
      " [-2.53087681e-16 -4.80574180e-01 -1.83435031e-01 -6.20561171e-01]\n",
      " [ 3.31228496e-16 -6.20818869e-02  1.77488930e-01 -1.11050458e-01]\n",
      " [ 1.34351115e-16  5.38486507e-01 -3.41013811e-01 -3.16211910e-01]]\n",
      "\n",
      "Hright=\n",
      "[[1. 0. 0. 0.]\n",
      " [0. 1. 0. 0.]\n",
      " [0. 0. 1. 0.]\n",
      " [0. 0. 0. 1.]]\n",
      "\n",
      "B * Hright=\n",
      "[[-1.31605478e+00 -1.81520183e+00  1.57686932e-16 -1.91027196e-16]\n",
      " [-2.19490161e-16 -7.36507623e-01 -3.27494491e-01  1.80562826e-17]\n",
      " [ 3.20771612e-16 -2.20675878e-17 -2.02112917e-01 -8.26985747e-02]\n",
      " [ 8.38280692e-17  8.70673270e-18 -1.37906911e-17  7.11511145e-01]]\n",
      "\n",
      "A * V0=\n",
      "[[ 0.5488135   1.08231427 -0.0144427   0.01021858]\n",
      " [ 0.4236548   1.12526739  0.35206865 -0.11722552]\n",
      " [ 0.96366276  0.96157769 -0.15418718 -0.32431531]\n",
      " [ 0.56804456  0.68930299  0.01294831  0.62774238]]\n",
      "\n",
      "KROK 3\n",
      "\n",
      "Hleft=\n",
      "[[ 1.  0.  0.  0.]\n",
      " [ 0.  1.  0.  0.]\n",
      " [ 0.  0.  1.  0.]\n",
      " [ 0.  0.  0. -1.]]\n",
      "\n",
      "Hleft * B=\n",
      "[[-1.31605478e+00 -1.81520183e+00  1.57686932e-16 -1.91027196e-16]\n",
      " [-2.19490161e-16 -7.36507623e-01 -3.27494491e-01  1.80562826e-17]\n",
      " [ 3.20771612e-16 -2.20675878e-17 -2.02112917e-01 -8.26985747e-02]\n",
      " [-8.38280692e-17 -8.70673270e-18  1.37906911e-17 -7.11511145e-01]]\n",
      "\n",
      "U0T * A=\n",
      "[[-1.31605478e+00 -1.18644770e+00 -1.00261646e+00 -9.39180375e-01]\n",
      " [-2.53087681e-16 -4.80574180e-01 -1.83435031e-01 -6.20561171e-01]\n",
      " [ 3.31228496e-16 -6.20818869e-02  1.77488930e-01 -1.11050458e-01]\n",
      " [-1.34351115e-16 -5.38486507e-01  3.41013811e-01  3.16211910e-01]]\n",
      "\n"
     ]
    }
   ],
   "source": [
    "np.random.seed(0)\n",
    "A = np.random.rand(4, 4)\n",
    "M, N = A.shape\n",
    "\n",
    "U0T = np.eye(M)\n",
    "V0 = np.eye(N)\n",
    "\n",
    "B = np.copy(A)\n",
    "print(f\"Przed wejściem do pętli: B=\\n{B}\\n\")\n",
    "for i in range(N):\n",
    "    \n",
    "    print(f\"KROK {i}\\n\")\n",
    "    \n",
    "    # działanie w kolumnie\n",
    "    u = np.copy(B[i:, i])\n",
    "    k = len(u)\n",
    "    u[0] += norm(u)\n",
    "    v = (np.zeros_like(u) if np.isclose(norm(u), 0) else u/norm(u))\n",
    "    Hi = np.eye(k) - 2 * v.reshape((k, 1)) @ v.reshape((1, k))\n",
    "    Hleft = np.block([[np.eye(i), np.zeros((i, k))],\n",
    "                      [np.zeros((k, i)), Hi]])\n",
    "    \n",
    "    print(f\"Hleft=\\n{Hleft}\\n\")\n",
    "    \n",
    "    U0T = (Hleft @ U0T)\n",
    "\n",
    "    print(f\"Hleft * B=\\n{Hleft @ B}\\n\")\n",
    "    print(f\"U0T * A=\\n{U0T @ A}\\n\")\n",
    "    \n",
    "    # B[i:, i] = Hi @ B[i:, i]\n",
    "    B = (Hleft @ B)\n",
    "    \n",
    "    if i == N-1:\n",
    "        break\n",
    "    \n",
    "    # działanie w wierszu\n",
    "    u = np.copy(B[i, (i+1):])\n",
    "    k = len(u)\n",
    "    u[0] += norm(u)\n",
    "    v = (np.zeros_like(u) if np.isclose(norm(u), 0) else u/norm(u))\n",
    "    Hi = np.eye(k) - 2 * v.reshape((k, 1)) @ v.reshape((1, k))\n",
    "    Hright = np.block([[np.eye(i+1), np.zeros((i+1, k))],\n",
    "                [np.zeros((k, i+1)), Hi]])\n",
    "    \n",
    "    print(f\"Hright=\\n{Hright}\\n\")\n",
    "    \n",
    "    V0 = (V0 @ Hright)\n",
    "    \n",
    "    print(f\"B * Hright=\\n{B @ Hright}\\n\")\n",
    "    B = (B @ Hright)\n",
    "    print(f\"A * V0=\\n{A @ V0}\\n\")\n",
    "    \n",
    "    # B[i, (i+1):] = B[i, (i+1):] @ Hi"
   ]
  },
  {
   "cell_type": "code",
   "execution_count": 254,
   "metadata": {},
   "outputs": [
    {
     "data": {
      "text/plain": [
       "True"
      ]
     },
     "execution_count": 254,
     "metadata": {},
     "output_type": "execute_result"
    }
   ],
   "source": [
    "mybidiag = U0T @ A @ V0\n",
    "np.allclose(mybidiag, B)"
   ]
  },
  {
   "cell_type": "markdown",
   "metadata": {},
   "source": [
    "Sprawdzamy ostateczny kod:"
   ]
  },
  {
   "cell_type": "code",
   "execution_count": 258,
   "metadata": {},
   "outputs": [
    {
     "data": {
      "text/plain": [
       "array([[0.16983042, 0.8781425 , 0.09834683, 0.42110763],\n",
       "       [0.95788953, 0.53316528, 0.69187711, 0.31551563],\n",
       "       [0.68650093, 0.83462567, 0.01828828, 0.75014431],\n",
       "       [0.98886109, 0.74816565, 0.28044399, 0.78927933],\n",
       "       [0.10322601, 0.44789353, 0.9085955 , 0.29361415],\n",
       "       [0.28777534, 0.13002857, 0.01936696, 0.67883553],\n",
       "       [0.21162812, 0.26554666, 0.49157316, 0.05336255]])"
      ]
     },
     "execution_count": 258,
     "metadata": {},
     "output_type": "execute_result"
    }
   ],
   "source": [
    "from importlib import reload\n",
    "import bidiagonalizacja\n",
    "reload(bidiagonalizacja)\n",
    "from bidiagonalizacja import bidiagonalize\n",
    "\n",
    "A = np.random.rand(7, 4)\n",
    "A"
   ]
  },
  {
   "cell_type": "code",
   "execution_count": 269,
   "metadata": {},
   "outputs": [
    {
     "data": {
      "text/plain": [
       "True"
      ]
     },
     "execution_count": 269,
     "metadata": {},
     "output_type": "execute_result"
    }
   ],
   "source": [
    "U0, B, V0T, transposed = bidiagonalize(A)\n",
    "np.allclose(U0 @ B @ V0T, A)"
   ]
  },
  {
   "cell_type": "code",
   "execution_count": 271,
   "metadata": {},
   "outputs": [
    {
     "data": {
      "text/plain": [
       "array([[-1.59178554, -1.93340143,  0.        ,  0.        ],\n",
       "       [ 0.        , -1.09711237, -0.16842912,  0.        ],\n",
       "       [ 0.        ,  0.        , -0.73190831, -0.52513328],\n",
       "       [ 0.        ,  0.        ,  0.        , -0.6823574 ],\n",
       "       [ 0.        ,  0.        ,  0.        ,  0.        ],\n",
       "       [ 0.        ,  0.        ,  0.        ,  0.        ],\n",
       "       [ 0.        ,  0.        ,  0.        ,  0.        ]])"
      ]
     },
     "execution_count": 271,
     "metadata": {},
     "output_type": "execute_result"
    }
   ],
   "source": [
    "B[np.where(np.abs(B) < 1e-15)] = 0\n",
    "B"
   ]
  },
  {
   "cell_type": "code",
   "execution_count": 2,
   "metadata": {},
   "outputs": [
    {
     "data": {
      "text/plain": [
       "array([[1, 2, 3],\n",
       "       [4, 5, 6]])"
      ]
     },
     "execution_count": 2,
     "metadata": {},
     "output_type": "execute_result"
    }
   ],
   "source": [
    "import numpy as np\n",
    "A = np.array([[1, 2, 3],\n",
    "              [4, 5, 6]])\n",
    "A"
   ]
  },
  {
   "cell_type": "code",
   "execution_count": 3,
   "metadata": {},
   "outputs": [],
   "source": [
    "U, S, VT = np.linalg.svd(A)"
   ]
  },
  {
   "cell_type": "code",
   "execution_count": 6,
   "metadata": {},
   "outputs": [
    {
     "data": {
      "text/plain": [
       "array([[-0.42866713, -0.56630692, -0.7039467 ],\n",
       "       [ 0.80596391,  0.11238241, -0.58119908],\n",
       "       [ 0.40824829, -0.81649658,  0.40824829]])"
      ]
     },
     "execution_count": 6,
     "metadata": {},
     "output_type": "execute_result"
    }
   ],
   "source": [
    "VT"
   ]
  }
 ],
 "metadata": {
  "kernelspec": {
   "display_name": "Python 3",
   "language": "python",
   "name": "python3"
  },
  "language_info": {
   "codemirror_mode": {
    "name": "ipython",
    "version": 3
   },
   "file_extension": ".py",
   "mimetype": "text/x-python",
   "name": "python",
   "nbconvert_exporter": "python",
   "pygments_lexer": "ipython3",
   "version": "3.11.0"
  }
 },
 "nbformat": 4,
 "nbformat_minor": 2
}
