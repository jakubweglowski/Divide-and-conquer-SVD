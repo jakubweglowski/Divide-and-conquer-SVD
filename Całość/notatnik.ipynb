{
 "cells": [
  {
   "cell_type": "markdown",
   "metadata": {},
   "source": [
    "Teraz, mając rozkład $M^TM = \\bar{U} \\Sigma \\bar{U}^{-1}$, trzeba się zastanowić co dalej -- jak zrobić z tego SVD macierzy $M$?\n",
    "\n",
    "Niech $M = X\\Lambda Y^T$ będzie szukanym SVD. Wiemy, że:\n",
    "1. $\\Lambda$ jest diagonalna i na diagonali ma pierwiastki z elementów diagonali $\\Sigma$.\n",
    "2. kolumny $Y$ są wektorami własnymi $M^TM$, czyli $Y = \\bar{U}$. Jak teraz wyznaczyć $X$?\n",
    "3. skoro znamy $M$, to mając równość $M = X\\Lambda Y^T$ mamy $X = M(\\Lambda Y^T)^{-1} = MY^{-T}\\Lambda^{-1} = MY\\Lambda^{-1}$.\n",
    "\n",
    "Wówczas, skoro $M = P_m C P_m^T$, to $C = P_m ^T M P_m = P_m ^T X \\Lambda Y^T P_m$, czyli:\n",
    "$$B = \\begin{bmatrix}\n",
    "U_1 & 0 & 0\\\\\n",
    "0 & 1 & 0\\\\\n",
    "0 & 0 & U_2\n",
    "\\end{bmatrix}P_m ^T X \\Lambda Y^T P_m\\begin{bmatrix}\n",
    "V_1 ^T & 0\\\\\n",
    "0 & V_2 ^T\n",
    "\\end{bmatrix}$$"
   ]
  },
  {
   "cell_type": "markdown",
   "metadata": {},
   "source": [
    "# SVD dla bidiagonalnej działa!\n",
    "Teraz trzeba nauczyć się sprowadzać dowolną macierz $A$ do postaci bidiagonalnej"
   ]
  }
 ],
 "metadata": {
  "kernelspec": {
   "display_name": "Python 3",
   "language": "python",
   "name": "python3"
  },
  "language_info": {
   "codemirror_mode": {
    "name": "ipython",
    "version": 3
   },
   "file_extension": ".py",
   "mimetype": "text/x-python",
   "name": "python",
   "nbconvert_exporter": "python",
   "pygments_lexer": "ipython3",
   "version": "3.11.0"
  }
 },
 "nbformat": 4,
 "nbformat_minor": 2
}
