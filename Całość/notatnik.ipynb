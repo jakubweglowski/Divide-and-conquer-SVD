{
 "cells": [
  {
   "cell_type": "markdown",
   "metadata": {},
   "source": [
    "Teraz, mając rozkład $M^TM = \\bar{U} \\Sigma \\bar{U}^{-1}$, trzeba się zastanowić co dalej -- jak zrobić z tego SVD macierzy $M$?\n",
    "\n",
    "Niech $M = X\\Lambda Y^T$ będzie szukanym SVD. Wiemy, że:\n",
    "1. $\\Lambda$ jest diagonalna i na diagonali ma pierwiastki z elementów diagonali $\\Sigma$.\n",
    "2. kolumny $Y$ są wektorami własnymi $M^TM$, czyli $Y = U$. Jak teraz wyznaczyć $X$?\n",
    "3. skoro znamy $M$, to mając równość $M = X\\Lambda Y^T$ mamy $X = (\\Lambda Y^T)^{-1}M = Y^{-T}\\Lambda^{-1}M = Y\\Lambda^{-1} M$.\n",
    "\n",
    "Wówczas, skoro $M = P_m C P_m^T$, to $C = P_m ^T M P_m = P_m ^T X \\Lambda Y P_m$, czyli:\n",
    "$$B = \\begin{bmatrix}\n",
    "U_1 & 0 & 0\\\\\n",
    "0 & 1 & 0\\\\\n",
    "0 & 0 & U_2\n",
    "\\end{bmatrix}P_m ^T X \\Lambda Y P_m\\begin{bmatrix}\n",
    "V_1 ^T & 0\\\\\n",
    "0 & V_2 ^T\n",
    "\\end{bmatrix}$$"
   ]
  }
 ],
 "metadata": {
  "language_info": {
   "name": "python"
  }
 },
 "nbformat": 4,
 "nbformat_minor": 2
}
