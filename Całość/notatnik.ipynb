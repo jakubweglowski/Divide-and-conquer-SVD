{
 "cells": [
  {
   "cell_type": "markdown",
   "metadata": {},
   "source": [
    "Teraz, mając rozkład $M^TM = \\bar{U} \\Sigma \\bar{U}^{-1}$, trzeba się zastanowić co dalej -- jak zrobić z tego SVD macierzy $M$?\n",
    "\n",
    "Niech $M = X\\Lambda Y^T$ będzie szukanym SVD. Wiemy, że:\n",
    "1. $\\Lambda$ jest diagonalna i na diagonali ma pierwiastki z elementów diagonali $\\Sigma$.\n",
    "2. kolumny $Y$ są wektorami własnymi $M^TM$, czyli $Y = \\bar{U}$. Jak teraz wyznaczyć $X$?\n",
    "3. skoro znamy $M$, to mając równość $M = X\\Lambda Y^T$ mamy $X = (\\Lambda Y^T)^{-1}M = Y^{-T}\\Lambda^{-1}M = Y\\Lambda^{-1} M$.\n",
    "\n",
    "Wówczas, skoro $M = P_m C P_m^T$, to $C = P_m ^T M P_m = P_m ^T X \\Lambda Y P_m$, czyli:\n",
    "$$B = \\begin{bmatrix}\n",
    "U_1 & 0 & 0\\\\\n",
    "0 & 1 & 0\\\\\n",
    "0 & 0 & U_2\n",
    "\\end{bmatrix}P_m ^T X \\Lambda Y P_m\\begin{bmatrix}\n",
    "V_1 ^T & 0\\\\\n",
    "0 & V_2 ^T\n",
    "\\end{bmatrix}$$"
   ]
  },
  {
   "cell_type": "code",
   "execution_count": 1,
   "metadata": {},
   "outputs": [],
   "source": [
    "import numpy as np"
   ]
  },
  {
   "cell_type": "code",
   "execution_count": 3,
   "metadata": {},
   "outputs": [
    {
     "data": {
      "text/plain": [
       "array([[0., 0., 0., 1., 0.],\n",
       "       [0., 1., 0., 0., 0.],\n",
       "       [0., 0., 1., 0., 0.],\n",
       "       [1., 0., 0., 0., 0.],\n",
       "       [0., 0., 0., 0., 1.]])"
      ]
     },
     "execution_count": 3,
     "metadata": {},
     "output_type": "execute_result"
    }
   ],
   "source": [
    "N = 5\n",
    "m = 3\n",
    "Pm = np.eye(N)\n",
    "\n",
    "Pm[[0, m], :] = Pm[[m, 0], :]\n",
    "\n",
    "Pm"
   ]
  },
  {
   "cell_type": "code",
   "execution_count": 4,
   "metadata": {},
   "outputs": [
    {
     "data": {
      "text/plain": [
       "array([[ 1,  2,  3],\n",
       "       [ 4,  5,  6],\n",
       "       [ 5,  6,  7],\n",
       "       [ 8,  9, 10],\n",
       "       [11, 12, 13]])"
      ]
     },
     "execution_count": 4,
     "metadata": {},
     "output_type": "execute_result"
    }
   ],
   "source": [
    "A = np.array([[1, 2, 3],\n",
    "              [4, 5, 6],\n",
    "              [5, 6, 7],\n",
    "              [8, 9, 10],\n",
    "              [11, 12, 13]])\n",
    "A"
   ]
  },
  {
   "cell_type": "code",
   "execution_count": 5,
   "metadata": {},
   "outputs": [
    {
     "data": {
      "text/plain": [
       "array([[ 8.,  9., 10.],\n",
       "       [ 4.,  5.,  6.],\n",
       "       [ 5.,  6.,  7.],\n",
       "       [ 1.,  2.,  3.],\n",
       "       [11., 12., 13.]])"
      ]
     },
     "execution_count": 5,
     "metadata": {},
     "output_type": "execute_result"
    }
   ],
   "source": [
    "Pm @ A"
   ]
  },
  {
   "cell_type": "code",
   "execution_count": 15,
   "metadata": {},
   "outputs": [],
   "source": [
    "np.random.seed(0)\n",
    "K = 5\n",
    "q = np.random.rand(K) # główna diagonala\n",
    "r = np.random.rand(K) # naddiagonala\n",
    "B1 = np.hstack((np.zeros((K, 1)), np.diag(q)))\n",
    "B2 = np.hstack((np.diag(r), np.zeros((K, 1))))\n",
    "B = B1 + B2\n",
    "# print(f\"{B1=}\\n{B2=}\")"
   ]
  },
  {
   "cell_type": "code",
   "execution_count": null,
   "metadata": {},
   "outputs": [],
   "source": []
  }
 ],
 "metadata": {
  "kernelspec": {
   "display_name": "Python 3",
   "language": "python",
   "name": "python3"
  },
  "language_info": {
   "codemirror_mode": {
    "name": "ipython",
    "version": 3
   },
   "file_extension": ".py",
   "mimetype": "text/x-python",
   "name": "python",
   "nbconvert_exporter": "python",
   "pygments_lexer": "ipython3",
   "version": "3.11.0"
  }
 },
 "nbformat": 4,
 "nbformat_minor": 2
}
