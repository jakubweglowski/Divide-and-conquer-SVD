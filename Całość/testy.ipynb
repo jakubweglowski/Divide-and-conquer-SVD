{
 "cells": [
  {
   "cell_type": "code",
   "execution_count": 51,
   "metadata": {},
   "outputs": [],
   "source": [
    "import numpy as np\n",
    "from importlib import reload\n",
    "\n",
    "import bidiagonalizacja\n",
    "reload(bidiagonalizacja)\n",
    "from bidiagonalizacja import bidiagonalize\n",
    "\n",
    "import podziałB\n",
    "reload(podziałB)\n",
    "from podziałB import divideB\n",
    "\n",
    "def enforce_zeros(A: np.array) -> np.array:\n",
    "    A[np.where(np.abs(A) < 1e-14)] = 0\n",
    "    return A\n",
    "\n",
    "np.random.seed(0)\n",
    "A = np.random.rand(7, 4)\n",
    "\n",
    "U0, B, V0T, transposed = bidiagonalize(A)\n",
    "B = enforce_zeros(B)[:B.shape[1]+1, :]\n",
    "B1, B2, alphak, betak, k = divideB(B)"
   ]
  },
  {
   "cell_type": "code",
   "execution_count": 55,
   "metadata": {},
   "outputs": [
    {
     "data": {
      "text/plain": [
       "array([[-1.21363646,  0.        ,  0.        ,  0.        ],\n",
       "       [-2.92779077, -0.48036095,  0.        ,  0.        ],\n",
       "       [ 0.        , -0.62708577, -0.4907934 ,  0.        ],\n",
       "       [ 0.        ,  0.        , -0.77177326, -0.0771551 ],\n",
       "       [ 0.        ,  0.        ,  0.        , -0.72825718]])"
      ]
     },
     "execution_count": 55,
     "metadata": {},
     "output_type": "execute_result"
    }
   ],
   "source": [
    "B"
   ]
  },
  {
   "cell_type": "code",
   "execution_count": 56,
   "metadata": {},
   "outputs": [
    {
     "data": {
      "text/plain": [
       "(array([[-1.21363646,  0.        ],\n",
       "        [-2.92779077, -0.48036095],\n",
       "        [ 0.        , -0.62708577]]),\n",
       " array([[-0.0771551 ],\n",
       "        [-0.72825718]]),\n",
       " -0.49079339643688685,\n",
       " -0.7717732639176429,\n",
       " 2)"
      ]
     },
     "execution_count": 56,
     "metadata": {},
     "output_type": "execute_result"
    }
   ],
   "source": [
    "B1, B2, alphak, betak, k"
   ]
  },
  {
   "cell_type": "code",
   "execution_count": 59,
   "metadata": {},
   "outputs": [
    {
     "name": "stdout",
     "output_type": "stream",
     "text": [
      "[[0.5488135  0.71518937 0.60276338]\n",
      " [0.54488318 0.4236548  0.64589411]\n",
      " [0.43758721 0.891773   0.96366276]]\n",
      "[[-0.54485754 -0.22481968 -0.80782819]\n",
      " [-0.4678586  -0.71798254  0.51537307]\n",
      " [-0.69587254  0.65875426  0.28601438]]\n",
      "[1.97240984 0.25980472 0.16451307]\n",
      "[[-0.43523327 -0.61267551 -0.65969745]\n",
      " [-0.87118606  0.4714844   0.13688429]\n",
      " [-0.2271714  -0.63429582  0.73896006]]\n",
      "\n",
      "[[0.5488135  0.71518937 0.60276338]\n",
      " [0.54488318 0.4236548  0.64589411]\n",
      " [0.43758721 0.891773   0.96366276]\n",
      " [0.         0.         0.        ]]\n",
      "[[-0.54485754 -0.22481968 -0.80782819  0.        ]\n",
      " [-0.4678586  -0.71798254  0.51537307  0.        ]\n",
      " [-0.69587254  0.65875426  0.28601438  0.        ]\n",
      " [ 0.          0.          0.          1.        ]]\n",
      "[1.97240984 0.25980472 0.16451307]\n",
      "[[-0.43523327 -0.61267551 -0.65969745]\n",
      " [-0.87118606  0.4714844   0.13688429]\n",
      " [-0.2271714  -0.63429582  0.73896006]]\n",
      "\n"
     ]
    }
   ],
   "source": [
    "np.random.seed(0)\n",
    "A = np.random.rand(3, 3)\n",
    "U, S, VT = np.linalg.svd(A)\n",
    "print(f\"{A}\\n{U}\\n{S}\\n{VT}\\n\")\n",
    "\n",
    "A = np.vstack((A, np.zeros((1, A.shape[1]))))\n",
    "U, S, VT = np.linalg.svd(A)\n",
    "print(f\"{A}\\n{U}\\n{S}\\n{VT}\\n\")"
   ]
  },
  {
   "cell_type": "code",
   "execution_count": 65,
   "metadata": {},
   "outputs": [
    {
     "data": {
      "text/plain": [
       "array([0.0202184 , 0.07103606, 0.0871293 , 0.92559664])"
      ]
     },
     "execution_count": 65,
     "metadata": {},
     "output_type": "execute_result"
    }
   ],
   "source": [
    "S = np.sort(np.random.rand(4)); S"
   ]
  },
  {
   "cell_type": "code",
   "execution_count": 66,
   "metadata": {},
   "outputs": [
    {
     "data": {
      "text/plain": [
       "array([0.92559664, 0.0871293 , 0.07103606, 0.0202184 ])"
      ]
     },
     "execution_count": 66,
     "metadata": {},
     "output_type": "execute_result"
    }
   ],
   "source": [
    "Pm = np.eye(len(S))[np.argsort(-S)]\n",
    "Pm @ S"
   ]
  }
 ],
 "metadata": {
  "kernelspec": {
   "display_name": "Python 3",
   "language": "python",
   "name": "python3"
  },
  "language_info": {
   "codemirror_mode": {
    "name": "ipython",
    "version": 3
   },
   "file_extension": ".py",
   "mimetype": "text/x-python",
   "name": "python",
   "nbconvert_exporter": "python",
   "pygments_lexer": "ipython3",
   "version": "3.11.0"
  }
 },
 "nbformat": 4,
 "nbformat_minor": 2
}
