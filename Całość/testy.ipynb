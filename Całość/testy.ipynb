{
 "cells": [
  {
   "cell_type": "code",
   "execution_count": 60,
   "metadata": {},
   "outputs": [],
   "source": [
    "import numpy as np\n",
    "from importlib import reload\n",
    "import pelny_algorytm\n",
    "reload(pelny_algorytm)\n",
    "from pelny_algorytm import DACSVD"
   ]
  },
  {
   "cell_type": "code",
   "execution_count": 61,
   "metadata": {},
   "outputs": [
    {
     "data": {
      "text/plain": [
       "array([[0.5488135 , 0.64589411, 0.        , 0.        , 0.        ],\n",
       "       [0.        , 0.71518937, 0.43758721, 0.        , 0.        ],\n",
       "       [0.        , 0.        , 0.60276338, 0.891773  , 0.        ],\n",
       "       [0.        , 0.        , 0.        , 0.54488318, 0.96366276],\n",
       "       [0.        , 0.        , 0.        , 0.        , 0.4236548 ]])"
      ]
     },
     "execution_count": 61,
     "metadata": {},
     "output_type": "execute_result"
    }
   ],
   "source": [
    "np.random.seed(0)\n",
    "K = 5\n",
    "q = np.random.rand(K) # główna diagonala\n",
    "r = np.random.rand(K-1) # naddiagonala\n",
    "B1 = np.diag(q)\n",
    "B2 = np.diag(r, k=1)\n",
    "B = B1 + B2\n",
    "B"
   ]
  },
  {
   "cell_type": "code",
   "execution_count": 62,
   "metadata": {},
   "outputs": [
    {
     "name": "stdout",
     "output_type": "stream",
     "text": [
      "Zanim wejdziemy do DACSVD:\n",
      "B=array([[0.5488135 , 0.64589411, 0.        , 0.        , 0.        ],\n",
      "       [0.        , 0.71518937, 0.43758721, 0.        , 0.        ],\n",
      "       [0.        , 0.        , 0.60276338, 0.891773  , 0.        ],\n",
      "       [0.        , 0.        , 0.        , 0.54488318, 0.96366276],\n",
      "       [0.        , 0.        , 0.        , 0.        , 0.4236548 ]])\n",
      "Krok 3... Ok!\n",
      "Sprawdzamy rozkład Pd * M^T * M * Pd^T = Ubar * Sigma * Ubar^(-1)... Ok!\n",
      "U1=array([[-0.71297387, -0.70119061],\n",
      "       [-0.70119061,  0.71297387]])\n",
      "U2=array([[ 0.94559116, -0.32535729],\n",
      "       [ 0.32535729,  0.94559116]])\n",
      "\n",
      "V1T=array([[-0.3613342 , -0.88834382, -0.28334228],\n",
      "       [-0.77169161,  0.11433601,  0.62563514],\n",
      "       [ 0.52338289, -0.44471623,  0.72684099]])\n",
      "V2T=array([[ 0.44083771,  0.89758683],\n",
      "       [-0.89758683,  0.44083771]])\n",
      "\n"
     ]
    }
   ],
   "source": [
    "print(f\"Zanim wejdziemy do DACSVD:\\n{B=}\")\n",
    "U, Lambda, VT = DACSVD(B)\n",
    "mysvd = U @ np.diag(Lambda) @ VT"
   ]
  },
  {
   "cell_type": "code",
   "execution_count": null,
   "metadata": {},
   "outputs": [],
   "source": []
  }
 ],
 "metadata": {
  "kernelspec": {
   "display_name": "Python 3",
   "language": "python",
   "name": "python3"
  },
  "language_info": {
   "codemirror_mode": {
    "name": "ipython",
    "version": 3
   },
   "file_extension": ".py",
   "mimetype": "text/x-python",
   "name": "python",
   "nbconvert_exporter": "python",
   "pygments_lexer": "ipython3",
   "version": "3.11.0"
  }
 },
 "nbformat": 4,
 "nbformat_minor": 2
}
