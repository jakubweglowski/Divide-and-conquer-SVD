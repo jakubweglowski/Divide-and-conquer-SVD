{
 "cells": [
  {
   "cell_type": "code",
   "execution_count": 8,
   "metadata": {},
   "outputs": [],
   "source": [
    "import numpy as np\n",
    "from importlib import reload\n",
    "\n",
    "import pelny_algorytm\n",
    "reload(pelny_algorytm)\n",
    "from pelny_algorytm import DACSVD"
   ]
  },
  {
   "cell_type": "code",
   "execution_count": 15,
   "metadata": {},
   "outputs": [
    {
     "data": {
      "text/plain": [
       "array([[0.5488135 , 0.71518937, 0.60276338],\n",
       "       [0.54488318, 0.4236548 , 0.64589411],\n",
       "       [0.43758721, 0.891773  , 0.96366276],\n",
       "       [0.38344152, 0.79172504, 0.52889492],\n",
       "       [0.56804456, 0.92559664, 0.07103606],\n",
       "       [0.0871293 , 0.0202184 , 0.83261985]])"
      ]
     },
     "execution_count": 15,
     "metadata": {},
     "output_type": "execute_result"
    }
   ],
   "source": [
    "np.random.seed(0)\n",
    "A = np.random.rand(6, 3)\n",
    "A"
   ]
  },
  {
   "cell_type": "code",
   "execution_count": 16,
   "metadata": {},
   "outputs": [],
   "source": [
    "U, Lambda, VT = DACSVD(A)\n",
    "trueSVD = np.linalg.svd(A)"
   ]
  },
  {
   "cell_type": "code",
   "execution_count": 18,
   "metadata": {},
   "outputs": [
    {
     "name": "stdout",
     "output_type": "stream",
     "text": [
      "U=\n",
      "[[-0.25659855 -0.05565535  0.44018837  0.67169038 -0.50929445  0.16353916]\n",
      " [-0.74359271  0.16197288  0.3705489  -0.38296749  0.05464003 -0.36589419]\n",
      " [ 0.49148526  0.18479126  0.55665639  0.20560984  0.31713569 -0.52113112]\n",
      " [ 0.36204674 -0.12267022  0.41349148 -0.597473   -0.54412799  0.17277072]\n",
      " [-0.09267166 -0.65870524  0.37106271 -0.02976594  0.52270846  0.3817351 ]\n",
      " [-0.00185081  0.69826849  0.22449641 -0.04508368  0.26030594  0.62628056]]\n",
      "trueU=\n",
      "[[-0.44018837  0.05565535 -0.25659855 -0.39731501 -0.73430522  0.20057539]\n",
      " [-0.3705489  -0.16197288 -0.74359271  0.30338032  0.1991067  -0.38967305]\n",
      " [-0.55665639 -0.18479126  0.49148526 -0.34994451  0.20019923 -0.50188365]\n",
      " [-0.41349148  0.12267022  0.36204674  0.77600738 -0.25502947  0.12518579]\n",
      " [-0.37106271  0.65870524 -0.09267166 -0.157994    0.49571824  0.38617763]\n",
      " [-0.22449641 -0.69826849 -0.00185081 -0.02214603  0.26513399  0.62548587]]\n",
      "\n",
      "S=\n",
      "[0.28324421 0.90280421 2.45539664]\n",
      "trueS=\n",
      "[2.45539664 0.90280421 0.28324421]\n",
      "\n",
      "VT=\n",
      "[[-0.86465098  0.49631229  0.07779969]\n",
      " [-0.24567559 -0.55282223  0.79626069]\n",
      " [ 0.43820337  0.6693741   0.5999301 ]]\n",
      "trueVT=\n",
      "[[-0.43820337 -0.6693741  -0.5999301 ]\n",
      " [ 0.24567559  0.55282223 -0.79626069]\n",
      " [-0.86465098  0.49631229  0.07779969]]\n",
      "\n"
     ]
    }
   ],
   "source": [
    "print(f\"U=\\n{U}\\ntrueU=\\n{trueSVD[0]}\\n\")\n",
    "print(f\"S=\\n{np.diag(Lambda)}\\ntrueS=\\n{trueSVD[1]}\\n\")\n",
    "print(f\"VT=\\n{VT}\\ntrueVT=\\n{trueSVD[2]}\\n\")"
   ]
  }
 ],
 "metadata": {
  "kernelspec": {
   "display_name": "Python 3",
   "language": "python",
   "name": "python3"
  },
  "language_info": {
   "codemirror_mode": {
    "name": "ipython",
    "version": 3
   },
   "file_extension": ".py",
   "mimetype": "text/x-python",
   "name": "python",
   "nbconvert_exporter": "python",
   "pygments_lexer": "ipython3",
   "version": "3.11.0"
  }
 },
 "nbformat": 4,
 "nbformat_minor": 2
}
