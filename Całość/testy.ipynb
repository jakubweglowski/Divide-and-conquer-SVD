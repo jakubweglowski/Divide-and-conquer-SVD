{
 "cells": [
  {
   "cell_type": "code",
   "execution_count": 130,
   "metadata": {},
   "outputs": [],
   "source": [
    "import numpy as np\n",
    "from importlib import reload\n",
    "import pelny_algorytm\n",
    "reload(pelny_algorytm)\n",
    "from pelny_algorytm import DACSVD"
   ]
  },
  {
   "cell_type": "code",
   "execution_count": 131,
   "metadata": {},
   "outputs": [
    {
     "data": {
      "text/plain": [
       "array([[0.5488135 , 0.64589411, 0.        , 0.        , 0.        ],\n",
       "       [0.        , 0.71518937, 0.43758721, 0.        , 0.        ],\n",
       "       [0.        , 0.        , 0.60276338, 0.891773  , 0.        ],\n",
       "       [0.        , 0.        , 0.        , 0.54488318, 0.96366276],\n",
       "       [0.        , 0.        , 0.        , 0.        , 0.4236548 ]])"
      ]
     },
     "execution_count": 131,
     "metadata": {},
     "output_type": "execute_result"
    }
   ],
   "source": [
    "np.random.seed(0)\n",
    "K = 5\n",
    "q = np.random.rand(K) # główna diagonala\n",
    "r = np.random.rand(K-1) # naddiagonala\n",
    "B1 = np.diag(q)\n",
    "B2 = np.diag(r, k=1)\n",
    "B = B1 + B2\n",
    "B"
   ]
  },
  {
   "cell_type": "code",
   "execution_count": 132,
   "metadata": {},
   "outputs": [
    {
     "name": "stdout",
     "output_type": "stream",
     "text": [
      "Zanim wejdziemy do DACSVD:\n",
      "B=array([[0.5488135 , 0.64589411, 0.        , 0.        , 0.        ],\n",
      "       [0.        , 0.71518937, 0.43758721, 0.        , 0.        ],\n",
      "       [0.        , 0.        , 0.60276338, 0.891773  , 0.        ],\n",
      "       [0.        , 0.        , 0.        , 0.54488318, 0.96366276],\n",
      "       [0.        , 0.        , 0.        , 0.        , 0.4236548 ]])\n",
      "Krok 3... Ok!\n",
      "Sprawdzamy rozkład M^T * M = Ubar * Sigma * Ubar^(-1)... Ok!\n",
      "mysvd=array([[ 5.48813504e-01,  6.45894113e-01,  2.14731987e-12,\n",
      "         4.24537577e-13, -2.70022135e-12],\n",
      "       [ 7.35385240e-13,  7.15189366e-01,  4.37587211e-01,\n",
      "        -1.13566541e-12, -1.79572542e-12],\n",
      "       [-9.98526493e-12,  1.10745557e-11,  6.02763376e-01,\n",
      "         8.91773001e-01, -9.44990610e-12],\n",
      "       [-1.89874698e-12, -2.05719797e-12, -2.00659115e-12,\n",
      "         5.44883183e-01,  9.63662761e-01],\n",
      "       [ 8.21133101e-13, -2.46881743e-12,  2.29647194e-12,\n",
      "        -6.04168846e-12,  4.23654799e-01]])\n"
     ]
    }
   ],
   "source": [
    "print(f\"Zanim wejdziemy do DACSVD:\\n{B=}\")\n",
    "U, Lambda, VT = DACSVD(B)\n",
    "mysvd = U @ np.diag(Lambda) @ VT\n",
    "print(f\"{mysvd=}\")"
   ]
  }
 ],
 "metadata": {
  "kernelspec": {
   "display_name": "Python 3",
   "language": "python",
   "name": "python3"
  },
  "language_info": {
   "codemirror_mode": {
    "name": "ipython",
    "version": 3
   },
   "file_extension": ".py",
   "mimetype": "text/x-python",
   "name": "python",
   "nbconvert_exporter": "python",
   "pygments_lexer": "ipython3",
   "version": "3.11.0"
  }
 },
 "nbformat": 4,
 "nbformat_minor": 2
}
