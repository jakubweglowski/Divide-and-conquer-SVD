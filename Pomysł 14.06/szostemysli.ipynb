{
 "cells": [
  {
   "cell_type": "code",
   "execution_count": 15,
   "metadata": {},
   "outputs": [],
   "source": [
    "import numpy as np\n",
    "\n",
    "from importlib import reload\n",
    "\n",
    "import przypadek1\n",
    "reload(przypadek1)\n",
    "import przypadek2\n",
    "reload(przypadek2)\n",
    "import przypadek3\n",
    "reload(przypadek3)\n",
    "\n",
    "from przypadek1 import *\n",
    "from przypadek2 import *\n",
    "from przypadek3 import *"
   ]
  },
  {
   "cell_type": "code",
   "execution_count": 16,
   "metadata": {},
   "outputs": [],
   "source": [
    "# Teraz trzeba rozwiązać pełne zadanie własne macierzy D^2 + z*z^T\n",
    "# W tym celu stworzymy sobie inną macierz diagonalną D oraz inny wektor z\n",
    "D = np.diag([-0.11, 0.23, 0.23, 0.23, 0.38, 0.49, 1.13, 1.13, 1.95])\n",
    "z = np.array([0., -2.11, 0., 3.37, 5.18, 0.92, 0.13, 1.12, -0.21])\n",
    "\n",
    "N = D.shape[0]\n",
    "\n",
    "A = D + z.reshape((N, 1)) @ z.reshape((1, N))"
   ]
  },
  {
   "cell_type": "code",
   "execution_count": 17,
   "metadata": {},
   "outputs": [],
   "source": [
    "H = case_two(D, z)\n",
    "D1, Dnew, znew, P = case_one(D, H @ z)\n",
    "S, Q = case_three(Dnew, znew)"
   ]
  },
  {
   "cell_type": "code",
   "execution_count": 18,
   "metadata": {},
   "outputs": [],
   "source": [
    "nzeros = D1.shape[0]\n",
    "Nnew = Dnew.shape[0]\n",
    "\n",
    "U = np.block([\n",
    "    [np.eye(nzeros), np.zeros((nzeros, Nnew))],\n",
    "    [np.zeros((Nnew, nzeros)), Q]\n",
    "])\n",
    "\n",
    "Sigma = np.block([\n",
    "    [D1, np.zeros((nzeros, Nnew))],\n",
    "    [np.zeros((Nnew, nzeros)), S]\n",
    "])"
   ]
  },
  {
   "cell_type": "markdown",
   "metadata": {},
   "source": [
    "Poniższy chunk pokazuje, że mamy $PHAH^TP^T = U\\Sigma U^{-1}$, czyli znamy wszystkie wektory i wartości własne macierzy $PHAH^TP^T$"
   ]
  },
  {
   "cell_type": "code",
   "execution_count": 21,
   "metadata": {},
   "outputs": [
    {
     "data": {
      "text/plain": [
       "True"
      ]
     },
     "execution_count": 21,
     "metadata": {},
     "output_type": "execute_result"
    }
   ],
   "source": [
    "np.all(np.isclose(P @ H @ A @ H.T @ P.T, U @ Sigma @ np.linalg.inv(U)))"
   ]
  },
  {
   "cell_type": "markdown",
   "metadata": {},
   "source": [
    "Dalej: zastanawiamy się, jak odzyskać wektory i wartości własne $HAH^T$"
   ]
  },
  {
   "cell_type": "code",
   "execution_count": 30,
   "metadata": {},
   "outputs": [],
   "source": [
    "Utilde = P.T @ U"
   ]
  },
  {
   "cell_type": "code",
   "execution_count": 31,
   "metadata": {},
   "outputs": [
    {
     "data": {
      "text/plain": [
       "True"
      ]
     },
     "execution_count": 31,
     "metadata": {},
     "output_type": "execute_result"
    }
   ],
   "source": [
    "np.all(np.isclose(H @ A @ H.T, Utilde @ Sigma @ np.linalg.inv(Utilde)))"
   ]
  },
  {
   "cell_type": "markdown",
   "metadata": {},
   "source": [
    "W ten sposób mamy wektory i wartości własne $HAH^T$: wektory to kolumny $\\tilde{U}$, wartości to elementy na diagonali $\\Sigma$.\n",
    "\n",
    "Teraz wystarczy zauważyć, że macierz $\\bar{U} := H^T\\tilde{U}$ przechowuje wektory własne $A$, zaś macierz $\\Sigma$ przechowuje wartości własne."
   ]
  },
  {
   "cell_type": "code",
   "execution_count": 32,
   "metadata": {},
   "outputs": [],
   "source": [
    "Ubar = H.T @ Utilde"
   ]
  },
  {
   "cell_type": "markdown",
   "metadata": {},
   "source": [
    "Sprawdzamy:"
   ]
  },
  {
   "cell_type": "code",
   "execution_count": 33,
   "metadata": {},
   "outputs": [
    {
     "data": {
      "text/plain": [
       "True"
      ]
     },
     "execution_count": 33,
     "metadata": {},
     "output_type": "execute_result"
    }
   ],
   "source": [
    "np.all(np.isclose(A, Ubar @ Sigma @ np.linalg.inv(Ubar)))"
   ]
  },
  {
   "cell_type": "markdown",
   "metadata": {},
   "source": [
    "Teraz, mając rozkład $A = \\bar{U} \\Sigma \\bar{U}^{-1}$, trzeba się zastanowić co dalej -- jak"
   ]
  }
 ],
 "metadata": {
  "kernelspec": {
   "display_name": "Python 3",
   "language": "python",
   "name": "python3"
  },
  "language_info": {
   "codemirror_mode": {
    "name": "ipython",
    "version": 3
   },
   "file_extension": ".py",
   "mimetype": "text/x-python",
   "name": "python",
   "nbconvert_exporter": "python",
   "pygments_lexer": "ipython3",
   "version": "3.11.0"
  }
 },
 "nbformat": 4,
 "nbformat_minor": 2
}
