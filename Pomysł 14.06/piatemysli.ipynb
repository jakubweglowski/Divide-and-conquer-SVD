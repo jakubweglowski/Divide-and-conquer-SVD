{
 "cells": [
  {
   "cell_type": "code",
   "execution_count": 53,
   "metadata": {},
   "outputs": [],
   "source": [
    "import numpy as np\n",
    "\n",
    "from importlib import reload\n",
    "\n",
    "import przypadek1\n",
    "reload(przypadek1)\n",
    "import przypadek2\n",
    "reload(przypadek2)\n",
    "\n",
    "from przypadek1 import *\n",
    "from przypadek2 import *"
   ]
  },
  {
   "cell_type": "code",
   "execution_count": 125,
   "metadata": {},
   "outputs": [],
   "source": [
    "# Teraz trzeba rozwiązać pełne zadanie własne macierzy D^2 + z*z^T\n",
    "# W tym celu stworzymy sobie inną macierz diagonalną D oraz inny wektor z\n",
    "D = np.diag([-0.11, 0.23, 0.23, 0.23, 0.38, 0.49, 1.13, 1.13, 1.95])\n",
    "z = np.array([0., -2.11, 0., 3.37, 5.18, 0.92, 0.13, 1.12, -0.21])\n",
    "\n",
    "N = D.shape[0]"
   ]
  },
  {
   "cell_type": "code",
   "execution_count": 126,
   "metadata": {},
   "outputs": [
    {
     "data": {
      "text/plain": [
       "array([[-0.11,  0.  ,  0.  ,  0.  ,  0.  ,  0.  ,  0.  ,  0.  ,  0.  ],\n",
       "       [ 0.  ,  0.23,  0.  ,  0.  ,  0.  ,  0.  ,  0.  ,  0.  ,  0.  ],\n",
       "       [ 0.  ,  0.  ,  0.23,  0.  ,  0.  ,  0.  ,  0.  ,  0.  ,  0.  ],\n",
       "       [ 0.  ,  0.  ,  0.  ,  0.23,  0.  ,  0.  ,  0.  ,  0.  ,  0.  ],\n",
       "       [ 0.  ,  0.  ,  0.  ,  0.  ,  0.38,  0.  ,  0.  ,  0.  ,  0.  ],\n",
       "       [ 0.  ,  0.  ,  0.  ,  0.  ,  0.  ,  0.49,  0.  ,  0.  ,  0.  ],\n",
       "       [ 0.  ,  0.  ,  0.  ,  0.  ,  0.  ,  0.  ,  1.13,  0.  ,  0.  ],\n",
       "       [ 0.  ,  0.  ,  0.  ,  0.  ,  0.  ,  0.  ,  0.  ,  1.13,  0.  ],\n",
       "       [ 0.  ,  0.  ,  0.  ,  0.  ,  0.  ,  0.  ,  0.  ,  0.  ,  1.95]])"
      ]
     },
     "execution_count": 126,
     "metadata": {},
     "output_type": "execute_result"
    }
   ],
   "source": [
    "D"
   ]
  },
  {
   "cell_type": "code",
   "execution_count": 127,
   "metadata": {},
   "outputs": [
    {
     "data": {
      "text/plain": [
       "array([ 0.  , -2.11,  0.  ,  3.37,  5.18,  0.92,  0.13,  1.12, -0.21])"
      ]
     },
     "execution_count": 127,
     "metadata": {},
     "output_type": "execute_result"
    }
   ],
   "source": [
    "z"
   ]
  },
  {
   "cell_type": "markdown",
   "metadata": {},
   "source": [
    "# Przypadek 2 z notatek: zwracamy macierz H"
   ]
  },
  {
   "cell_type": "code",
   "execution_count": 128,
   "metadata": {},
   "outputs": [],
   "source": [
    "H = case_two(D, z)"
   ]
  },
  {
   "cell_type": "code",
   "execution_count": 129,
   "metadata": {},
   "outputs": [
    {
     "data": {
      "text/plain": [
       "array([[ 1.        ,  0.        ,  0.        ,  0.        ,  0.        ,\n",
       "         0.        ,  0.        ,  0.        ,  0.        ],\n",
       "       [ 0.        ,  0.84757415,  0.        ,  0.53067699,  0.        ,\n",
       "         0.        ,  0.        ,  0.        ,  0.        ],\n",
       "       [ 0.        ,  0.        ,  1.        ,  0.        ,  0.        ,\n",
       "         0.        ,  0.        ,  0.        ,  0.        ],\n",
       "       [ 0.        ,  0.53067699,  0.        , -0.84757415,  0.        ,\n",
       "         0.        ,  0.        ,  0.        ,  0.        ],\n",
       "       [ 0.        ,  0.        ,  0.        ,  0.        ,  1.        ,\n",
       "         0.        ,  0.        ,  0.        ,  0.        ],\n",
       "       [ 0.        ,  0.        ,  0.        ,  0.        ,  0.        ,\n",
       "         1.        ,  0.        ,  0.        ,  0.        ],\n",
       "       [ 0.        ,  0.        ,  0.        ,  0.        ,  0.        ,\n",
       "         0.        ,  0.99333102, -0.11529735,  0.        ],\n",
       "       [ 0.        ,  0.        ,  0.        ,  0.        ,  0.        ,\n",
       "         0.        , -0.11529735, -0.99333102,  0.        ],\n",
       "       [ 0.        ,  0.        ,  0.        ,  0.        ,  0.        ,\n",
       "         0.        ,  0.        ,  0.        ,  1.        ]])"
      ]
     },
     "execution_count": 129,
     "metadata": {},
     "output_type": "execute_result"
    }
   ],
   "source": [
    "H"
   ]
  },
  {
   "cell_type": "markdown",
   "metadata": {},
   "source": [
    "# Przypadek 1:\n",
    "Zwracamy macierz diagonalną $D$ t.że $d_1 < ...< d_N$ i wektor $z$ t.że $\\forall i: z_i \\neq 0$.\n",
    "\n",
    "Innymi słowy, $D$ i $z$ spełniają kryteria Przypadku 3.\n",
    "\n",
    "Uwaga: słownik $eigendict$ przechowuje w sobie wektory i wartości własne macierzy $HAH^T$.\n",
    "Gdy $(\\lambda, v)$ jest parą własną $HAH^T$, to $(\\lambda, H^Tv)$ jest parą własną $A$."
   ]
  },
  {
   "cell_type": "code",
   "execution_count": 130,
   "metadata": {},
   "outputs": [],
   "source": [
    "Dnew, znew, P, nzeros, eigendict = case_one(D, H @ z)"
   ]
  },
  {
   "cell_type": "code",
   "execution_count": 131,
   "metadata": {},
   "outputs": [
    {
     "data": {
      "text/plain": [
       "{-0.11: [array([1., 0., 0., 0., 0., 0., 0., 0., 0.])],\n",
       " 0.23: [array([0, 1, 0, 0, 0, 0, 0, 0, 0]),\n",
       "  array([0, 0, 1, 0, 0, 0, 0, 0, 0])],\n",
       " 1.13: [array([0, 0, 0, 0, 0, 0, 1, 0, 0])]}"
      ]
     },
     "execution_count": 131,
     "metadata": {},
     "output_type": "execute_result"
    }
   ],
   "source": [
    "eigendict"
   ]
  },
  {
   "cell_type": "code",
   "execution_count": 132,
   "metadata": {},
   "outputs": [
    {
     "data": {
      "text/plain": [
       "array([-0.11,  0.23,  0.23,  0.23,  0.38,  0.49,  1.13,  1.13,  1.95])"
      ]
     },
     "execution_count": 132,
     "metadata": {},
     "output_type": "execute_result"
    }
   ],
   "source": [
    "np.diag(D)"
   ]
  },
  {
   "cell_type": "code",
   "execution_count": 149,
   "metadata": {},
   "outputs": [
    {
     "data": {
      "text/plain": [
       "array([ 0.        ,  0.        ,  0.        , -3.97605332,  5.18      ,\n",
       "        0.92      ,  0.        , -1.1275194 , -0.21      ])"
      ]
     },
     "execution_count": 149,
     "metadata": {},
     "output_type": "execute_result"
    }
   ],
   "source": [
    "tildez = H @ z\n",
    "tildez"
   ]
  },
  {
   "cell_type": "code",
   "execution_count": 135,
   "metadata": {},
   "outputs": [
    {
     "data": {
      "text/plain": [
       "array([[0.23, 0.  , 0.  , 0.  , 0.  ],\n",
       "       [0.  , 0.38, 0.  , 0.  , 0.  ],\n",
       "       [0.  , 0.  , 0.49, 0.  , 0.  ],\n",
       "       [0.  , 0.  , 0.  , 1.13, 0.  ],\n",
       "       [0.  , 0.  , 0.  , 0.  , 1.95]])"
      ]
     },
     "execution_count": 135,
     "metadata": {},
     "output_type": "execute_result"
    }
   ],
   "source": [
    "Dnew"
   ]
  },
  {
   "cell_type": "code",
   "execution_count": 136,
   "metadata": {},
   "outputs": [
    {
     "data": {
      "text/plain": [
       "array([-3.97605332,  5.18      ,  0.92      , -1.1275194 , -0.21      ])"
      ]
     },
     "execution_count": 136,
     "metadata": {},
     "output_type": "execute_result"
    }
   ],
   "source": [
    "znew"
   ]
  },
  {
   "cell_type": "code",
   "execution_count": 137,
   "metadata": {},
   "outputs": [
    {
     "data": {
      "text/plain": [
       "array([[1., 0., 0., 0., 0., 0., 0., 0., 0.],\n",
       "       [0., 1., 0., 0., 0., 0., 0., 0., 0.],\n",
       "       [0., 0., 1., 0., 0., 0., 0., 0., 0.],\n",
       "       [0., 0., 0., 0., 0., 0., 1., 0., 0.],\n",
       "       [0., 0., 0., 1., 0., 0., 0., 0., 0.],\n",
       "       [0., 0., 0., 0., 1., 0., 0., 0., 0.],\n",
       "       [0., 0., 0., 0., 0., 1., 0., 0., 0.],\n",
       "       [0., 0., 0., 0., 0., 0., 0., 1., 0.],\n",
       "       [0., 0., 0., 0., 0., 0., 0., 0., 1.]])"
      ]
     },
     "execution_count": 137,
     "metadata": {},
     "output_type": "execute_result"
    }
   ],
   "source": [
    "P"
   ]
  },
  {
   "cell_type": "code",
   "execution_count": 138,
   "metadata": {},
   "outputs": [
    {
     "data": {
      "text/plain": [
       "4"
      ]
     },
     "execution_count": 138,
     "metadata": {},
     "output_type": "execute_result"
    }
   ],
   "source": [
    "nzeros"
   ]
  },
  {
   "cell_type": "code",
   "execution_count": 147,
   "metadata": {},
   "outputs": [
    {
     "data": {
      "text/plain": [
       "array([[-0.11,  0.  ,  0.  ,  0.  ],\n",
       "       [ 0.  ,  0.23,  0.  ,  0.  ],\n",
       "       [ 0.  ,  0.  ,  0.23,  0.  ],\n",
       "       [ 0.  ,  0.  ,  0.  ,  1.13]])"
      ]
     },
     "execution_count": 147,
     "metadata": {},
     "output_type": "execute_result"
    }
   ],
   "source": [
    "D1 = (P @ D @ P.T)[:nzeros, :][:, :nzeros]\n",
    "D1"
   ]
  },
  {
   "cell_type": "markdown",
   "metadata": {},
   "source": [
    "# Przypadek 3:\n",
    "Rozwiązujemy zadanie z macierzą $D_{new}$ i wektorem $z_{new}$. Wypełniamy do końca słownik $eigendict$, który przechowuje w sobie wektory i wartości własne maciery $HAH^T$. Potem, gdy słownik będzie już wypełniony, używamy macierzy $H$, żeby odzyskać wektory i wartości własne macierzy $A$."
   ]
  },
  {
   "cell_type": "code",
   "execution_count": 139,
   "metadata": {},
   "outputs": [],
   "source": [
    "def f(x: float, z: np.array, d: np.array) -> float:\n",
    "    assert z.shape[0] == d.shape[0]\n",
    "    return 1 + np.sum(z*z / (d - x))"
   ]
  },
  {
   "cell_type": "code",
   "execution_count": 140,
   "metadata": {},
   "outputs": [],
   "source": [
    "from scipy.optimize import bisect\n",
    "from scipy.linalg import solve\n",
    "\n",
    "Nnew = Dnew.shape[0]\n",
    "d = np.diag(Dnew)\n",
    "\n",
    "eigenvalues = []\n",
    "\n",
    "for i in range(Nnew-1):    \n",
    "    eigenvalues.append(bisect(f, d[i]+(1e-15), d[i+1]-(1e-15), args=(znew, d)))\n",
    "    \n",
    "eigenvalues.append(bisect(f, d[-1]+(1e-15), d[-1] + np.linalg.norm(z)**2, args=(znew, d)))"
   ]
  },
  {
   "cell_type": "code",
   "execution_count": 142,
   "metadata": {},
   "outputs": [],
   "source": [
    "eigenvectors = []\n",
    "for lam in eigenvalues:\n",
    "    v = solve(Dnew-lam*np.eye(Nnew), znew)\n",
    "    eigenvectors.append(v)"
   ]
  },
  {
   "cell_type": "markdown",
   "metadata": {},
   "source": [
    "Mamy poprawny rozkład SVD macierzy $A_{new} = D_{new} + z_{new}z_{new}^T = QSQ^{-1}$."
   ]
  },
  {
   "cell_type": "code",
   "execution_count": 143,
   "metadata": {},
   "outputs": [
    {
     "data": {
      "text/plain": [
       "array([[ 0.28479722,  0.        ,  0.        ,  0.        ,  0.        ],\n",
       "       [ 0.        ,  0.4872574 ,  0.        ,  0.        ,  0.        ],\n",
       "       [ 0.        ,  0.        ,  1.106992  ,  0.        ,  0.        ],\n",
       "       [ 0.        ,  0.        ,  0.        ,  1.94839297,  0.        ],\n",
       "       [ 0.        ,  0.        ,  0.        ,  0.        , 45.15576041]])"
      ]
     },
     "execution_count": 143,
     "metadata": {},
     "output_type": "execute_result"
    }
   ],
   "source": [
    "S = np.diag(eigenvalues)\n",
    "S"
   ]
  },
  {
   "cell_type": "code",
   "execution_count": 144,
   "metadata": {},
   "outputs": [
    {
     "data": {
      "text/plain": [
       "array([[ 7.25593974e+01,  1.54555450e+01,  4.53373956e+00,\n",
       "         2.31382076e+00,  8.85027495e-02],\n",
       "       [ 5.44101763e+01, -4.82950360e+01, -7.12525036e+00,\n",
       "        -3.30274371e+00, -1.15687594e-01],\n",
       "       [ 4.48337008e+00,  3.35448129e+02, -1.49110524e+00,\n",
       "        -6.30831347e-01, -2.05974328e-02],\n",
       "       [-1.33402235e+00, -1.75423163e+00, -4.90055348e+01,\n",
       "         1.37772372e+00,  2.56104469e-02],\n",
       "       [-1.26110767e-01, -1.43565929e-01, -2.49107956e-01,\n",
       "        -1.30675534e+02,  4.86046300e-03]])"
      ]
     },
     "execution_count": 144,
     "metadata": {},
     "output_type": "execute_result"
    }
   ],
   "source": [
    "Q = np.array(eigenvectors).T\n",
    "Q"
   ]
  },
  {
   "cell_type": "code",
   "execution_count": 146,
   "metadata": {},
   "outputs": [
    {
     "data": {
      "text/plain": [
       "array([[ 1.00000000e+00,  0.00000000e+00,  0.00000000e+00,\n",
       "         0.00000000e+00,  0.00000000e+00,  0.00000000e+00,\n",
       "         0.00000000e+00,  0.00000000e+00,  0.00000000e+00],\n",
       "       [ 0.00000000e+00,  1.00000000e+00,  0.00000000e+00,\n",
       "         0.00000000e+00,  0.00000000e+00,  0.00000000e+00,\n",
       "         0.00000000e+00,  0.00000000e+00,  0.00000000e+00],\n",
       "       [ 0.00000000e+00,  0.00000000e+00,  1.00000000e+00,\n",
       "         0.00000000e+00,  0.00000000e+00,  0.00000000e+00,\n",
       "         0.00000000e+00,  0.00000000e+00,  0.00000000e+00],\n",
       "       [ 0.00000000e+00,  0.00000000e+00,  0.00000000e+00,\n",
       "         1.00000000e+00,  0.00000000e+00,  0.00000000e+00,\n",
       "         0.00000000e+00,  0.00000000e+00,  0.00000000e+00],\n",
       "       [ 0.00000000e+00,  0.00000000e+00,  0.00000000e+00,\n",
       "         0.00000000e+00,  7.25593974e+01,  1.54555450e+01,\n",
       "         4.53373956e+00,  2.31382076e+00,  8.85027495e-02],\n",
       "       [ 0.00000000e+00,  0.00000000e+00,  0.00000000e+00,\n",
       "         0.00000000e+00,  5.44101763e+01, -4.82950360e+01,\n",
       "        -7.12525036e+00, -3.30274371e+00, -1.15687594e-01],\n",
       "       [ 0.00000000e+00,  0.00000000e+00,  0.00000000e+00,\n",
       "         0.00000000e+00,  4.48337008e+00,  3.35448129e+02,\n",
       "        -1.49110524e+00, -6.30831347e-01, -2.05974328e-02],\n",
       "       [ 0.00000000e+00,  0.00000000e+00,  0.00000000e+00,\n",
       "         0.00000000e+00, -1.33402235e+00, -1.75423163e+00,\n",
       "        -4.90055348e+01,  1.37772372e+00,  2.56104469e-02],\n",
       "       [ 0.00000000e+00,  0.00000000e+00,  0.00000000e+00,\n",
       "         0.00000000e+00, -1.26110767e-01, -1.43565929e-01,\n",
       "        -2.49107956e-01, -1.30675534e+02,  4.86046300e-03]])"
      ]
     },
     "execution_count": 146,
     "metadata": {},
     "output_type": "execute_result"
    }
   ],
   "source": [
    "U = np.block([\n",
    "    [np.eye(nzeros), np.zeros((nzeros, Nnew))],\n",
    "    [np.zeros((Nnew, nzeros)), Q]\n",
    "])\n",
    "U"
   ]
  },
  {
   "cell_type": "code",
   "execution_count": 158,
   "metadata": {},
   "outputs": [
    {
     "data": {
      "text/plain": [
       "array([[-0.11      ,  0.        ,  0.        ,  0.        ,  0.        ,\n",
       "         0.        ,  0.        ,  0.        ,  0.        ],\n",
       "       [ 0.        ,  0.23      ,  0.        ,  0.        ,  0.        ,\n",
       "         0.        ,  0.        ,  0.        ,  0.        ],\n",
       "       [ 0.        ,  0.        ,  0.23      ,  0.        ,  0.        ,\n",
       "         0.        ,  0.        ,  0.        ,  0.        ],\n",
       "       [ 0.        ,  0.        ,  0.        ,  1.13      ,  0.        ,\n",
       "         0.        ,  0.        ,  0.        ,  0.        ],\n",
       "       [ 0.        ,  0.        ,  0.        ,  0.        ,  0.28479722,\n",
       "         0.        ,  0.        ,  0.        ,  0.        ],\n",
       "       [ 0.        ,  0.        ,  0.        ,  0.        ,  0.        ,\n",
       "         0.4872574 ,  0.        ,  0.        ,  0.        ],\n",
       "       [ 0.        ,  0.        ,  0.        ,  0.        ,  0.        ,\n",
       "         0.        ,  1.106992  ,  0.        ,  0.        ],\n",
       "       [ 0.        ,  0.        ,  0.        ,  0.        ,  0.        ,\n",
       "         0.        ,  0.        ,  1.94839297,  0.        ],\n",
       "       [ 0.        ,  0.        ,  0.        ,  0.        ,  0.        ,\n",
       "         0.        ,  0.        ,  0.        , 45.15576041]])"
      ]
     },
     "execution_count": 158,
     "metadata": {},
     "output_type": "execute_result"
    }
   ],
   "source": [
    "Sigma = np.block([\n",
    "    [D1, np.zeros((nzeros, Nnew))],\n",
    "    [np.zeros((Nnew, nzeros)), S]\n",
    "])\n",
    "Sigma"
   ]
  },
  {
   "cell_type": "code",
   "execution_count": 150,
   "metadata": {},
   "outputs": [
    {
     "data": {
      "text/plain": [
       "array([ 0.        ,  0.        ,  0.        ,  0.        , -3.97605332,\n",
       "        5.18      ,  0.92      , -1.1275194 , -0.21      ])"
      ]
     },
     "execution_count": 150,
     "metadata": {},
     "output_type": "execute_result"
    }
   ],
   "source": [
    "Pz = P@tildez\n",
    "Pz"
   ]
  },
  {
   "cell_type": "code",
   "execution_count": 159,
   "metadata": {},
   "outputs": [],
   "source": [
    "X = U @ Sigma @ np.linalg.inv(U)"
   ]
  },
  {
   "cell_type": "code",
   "execution_count": 156,
   "metadata": {},
   "outputs": [],
   "source": [
    "Y = P @ D @ P.T + Pz.reshape((N, 1)) @ Pz.reshape((1, N))"
   ]
  },
  {
   "cell_type": "code",
   "execution_count": 161,
   "metadata": {},
   "outputs": [
    {
     "data": {
      "text/plain": [
       "array([[ True,  True,  True,  True,  True,  True,  True,  True,  True],\n",
       "       [ True,  True,  True,  True,  True,  True,  True,  True,  True],\n",
       "       [ True,  True,  True,  True,  True,  True,  True,  True,  True],\n",
       "       [ True,  True,  True,  True,  True,  True,  True,  True,  True],\n",
       "       [ True,  True,  True,  True,  True,  True,  True,  True,  True],\n",
       "       [ True,  True,  True,  True,  True,  True,  True,  True,  True],\n",
       "       [ True,  True,  True,  True,  True,  True,  True,  True,  True],\n",
       "       [ True,  True,  True,  True,  True,  True,  True,  True,  True],\n",
       "       [ True,  True,  True,  True,  True,  True,  True,  True,  True]])"
      ]
     },
     "execution_count": 161,
     "metadata": {},
     "output_type": "execute_result"
    }
   ],
   "source": [
    "np.isclose(X, Y)"
   ]
  }
 ],
 "metadata": {
  "kernelspec": {
   "display_name": "Python 3",
   "language": "python",
   "name": "python3"
  },
  "language_info": {
   "codemirror_mode": {
    "name": "ipython",
    "version": 3
   },
   "file_extension": ".py",
   "mimetype": "text/x-python",
   "name": "python",
   "nbconvert_exporter": "python",
   "pygments_lexer": "ipython3",
   "version": "3.11.0"
  }
 },
 "nbformat": 4,
 "nbformat_minor": 2
}
