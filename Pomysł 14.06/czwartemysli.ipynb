{
 "cells": [
  {
   "cell_type": "code",
   "execution_count": 1,
   "metadata": {},
   "outputs": [],
   "source": [
    "import numpy as np"
   ]
  },
  {
   "cell_type": "markdown",
   "metadata": {},
   "source": [
    "Rozpoczynamy od przypadku nr 2:"
   ]
  },
  {
   "cell_type": "code",
   "execution_count": 5,
   "metadata": {},
   "outputs": [],
   "source": [
    "# Teraz trzeba rozwiązać pełne zadanie własne macierzy D^2 + z*z^T\n",
    "# W tym celu stworzymy sobie inną macierz diagonalną D oraz inny wektor z\n",
    "D = np.diag([-0.11, 0.23, 0.23, 0.23, 0.38, 0.49, 1.13, 1.13, 1.95])\n",
    "z = np.array([0., -2.11, 0, 3.37, 5.18, 0.92, 0.13, 1.12, -0.21])\n",
    "\n",
    "N = D.shape[0]\n",
    "\n",
    "A = D + z.reshape((N, 1)) @ z.reshape((1, N))"
   ]
  },
  {
   "cell_type": "code",
   "execution_count": 6,
   "metadata": {},
   "outputs": [
    {
     "data": {
      "text/plain": [
       "array([[-0.11,  0.  ,  0.  ,  0.  ,  0.  ,  0.  ,  0.  ,  0.  ,  0.  ],\n",
       "       [ 0.  ,  0.23,  0.  ,  0.  ,  0.  ,  0.  ,  0.  ,  0.  ,  0.  ],\n",
       "       [ 0.  ,  0.  ,  0.23,  0.  ,  0.  ,  0.  ,  0.  ,  0.  ,  0.  ],\n",
       "       [ 0.  ,  0.  ,  0.  ,  0.23,  0.  ,  0.  ,  0.  ,  0.  ,  0.  ],\n",
       "       [ 0.  ,  0.  ,  0.  ,  0.  ,  0.38,  0.  ,  0.  ,  0.  ,  0.  ],\n",
       "       [ 0.  ,  0.  ,  0.  ,  0.  ,  0.  ,  0.49,  0.  ,  0.  ,  0.  ],\n",
       "       [ 0.  ,  0.  ,  0.  ,  0.  ,  0.  ,  0.  ,  1.13,  0.  ,  0.  ],\n",
       "       [ 0.  ,  0.  ,  0.  ,  0.  ,  0.  ,  0.  ,  0.  ,  1.13,  0.  ],\n",
       "       [ 0.  ,  0.  ,  0.  ,  0.  ,  0.  ,  0.  ,  0.  ,  0.  ,  1.95]])"
      ]
     },
     "execution_count": 6,
     "metadata": {},
     "output_type": "execute_result"
    }
   ],
   "source": [
    "D"
   ]
  },
  {
   "cell_type": "code",
   "execution_count": 7,
   "metadata": {},
   "outputs": [
    {
     "data": {
      "text/plain": [
       "array([ 0.  , -2.11,  0.  ,  3.37,  5.18,  0.92,  0.13,  1.12, -0.21])"
      ]
     },
     "execution_count": 7,
     "metadata": {},
     "output_type": "execute_result"
    }
   ],
   "source": [
    "z"
   ]
  },
  {
   "cell_type": "code",
   "execution_count": 8,
   "metadata": {},
   "outputs": [
    {
     "data": {
      "text/plain": [
       "{-0.11: [0], 0.23: [1, 2, 3], 0.38: [4], 0.49: [5], 1.13: [6, 7], 1.95: [8]}"
      ]
     },
     "execution_count": 8,
     "metadata": {},
     "output_type": "execute_result"
    }
   ],
   "source": [
    "def count_elements(arr: np.array) -> dict:\n",
    "    \n",
    "    retdict = {}\n",
    "    for i, a in enumerate(arr):\n",
    "        if retdict.get(a) is None:\n",
    "            retdict[a] = [i]\n",
    "        else:\n",
    "            retdict[a].append(i)\n",
    "    return retdict\n",
    "\n",
    "ce = count_elements(np.diag(D))\n",
    "ce"
   ]
  },
  {
   "cell_type": "code",
   "execution_count": 36,
   "metadata": {},
   "outputs": [
    {
     "name": "stdout",
     "output_type": "stream",
     "text": [
      "Pojedyncze di=-0.11 na indeksie [0].\n",
      "Blok odpowiadający di=0.23 na indeksach [1, 2, 3]\n",
      "Pojedyncze di=0.38 na indeksie [4].\n",
      "Pojedyncze di=0.49 na indeksie [5].\n",
      "Blok odpowiadający di=1.13 na indeksach [6, 7]\n",
      "Pojedyncze di=1.95 na indeksie [8].\n"
     ]
    }
   ],
   "source": [
    "H = np.eye(N)\n",
    "for key, val in ce.items():\n",
    "        \n",
    "    if len(val) > 1:\n",
    "        print(f\"Blok odpowiadający di={key} na indeksach {val}\")\n",
    "        \n",
    "        i = val[0]\n",
    "        k = len(val)\n",
    "        \n",
    "        u = z[val]\n",
    "        u[-1] += np.linalg.norm(u)\n",
    "        v = u/np.linalg.norm(u)\n",
    "        Hi = np.eye(k) - 2 * v.reshape((k, 1)) @ v.reshape((1, k))\n",
    "        \n",
    "        for row in range(i, i+k):\n",
    "            for col in range(i, i+k):\n",
    "                H[row, col] = Hi[row-i, col-i]\n",
    "    else:\n",
    "        print(f\"Pojedyncze di={key} na indeksie {val}.\")"
   ]
  },
  {
   "cell_type": "code",
   "execution_count": 37,
   "metadata": {},
   "outputs": [
    {
     "data": {
      "text/plain": [
       "array([[ 1.        ,  0.        ,  0.        ,  0.        ,  0.        ,\n",
       "         0.        ,  0.        ,  0.        ,  0.        ],\n",
       "       [ 0.        ,  0.84757415,  0.        ,  0.53067699,  0.        ,\n",
       "         0.        ,  0.        ,  0.        ,  0.        ],\n",
       "       [ 0.        ,  0.        ,  1.        ,  0.        ,  0.        ,\n",
       "         0.        ,  0.        ,  0.        ,  0.        ],\n",
       "       [ 0.        ,  0.53067699,  0.        , -0.84757415,  0.        ,\n",
       "         0.        ,  0.        ,  0.        ,  0.        ],\n",
       "       [ 0.        ,  0.        ,  0.        ,  0.        ,  1.        ,\n",
       "         0.        ,  0.        ,  0.        ,  0.        ],\n",
       "       [ 0.        ,  0.        ,  0.        ,  0.        ,  0.        ,\n",
       "         1.        ,  0.        ,  0.        ,  0.        ],\n",
       "       [ 0.        ,  0.        ,  0.        ,  0.        ,  0.        ,\n",
       "         0.        ,  0.99333102, -0.11529735,  0.        ],\n",
       "       [ 0.        ,  0.        ,  0.        ,  0.        ,  0.        ,\n",
       "         0.        , -0.11529735, -0.99333102,  0.        ],\n",
       "       [ 0.        ,  0.        ,  0.        ,  0.        ,  0.        ,\n",
       "         0.        ,  0.        ,  0.        ,  1.        ]])"
      ]
     },
     "execution_count": 37,
     "metadata": {},
     "output_type": "execute_result"
    }
   ],
   "source": [
    "H"
   ]
  },
  {
   "cell_type": "code",
   "execution_count": 40,
   "metadata": {},
   "outputs": [
    {
     "data": {
      "text/plain": [
       "array([-0.11,  0.23,  0.23,  0.23,  0.38,  0.49,  1.13,  1.13,  1.95])"
      ]
     },
     "execution_count": 40,
     "metadata": {},
     "output_type": "execute_result"
    }
   ],
   "source": [
    "np.diag(D)"
   ]
  },
  {
   "cell_type": "code",
   "execution_count": 39,
   "metadata": {},
   "outputs": [
    {
     "data": {
      "text/plain": [
       "array([ 0.  , -2.11,  0.  ,  3.37,  5.18,  0.92,  0.13,  1.12, -0.21])"
      ]
     },
     "execution_count": 39,
     "metadata": {},
     "output_type": "execute_result"
    }
   ],
   "source": [
    "z"
   ]
  },
  {
   "cell_type": "code",
   "execution_count": 38,
   "metadata": {},
   "outputs": [
    {
     "data": {
      "text/plain": [
       "array([ 0.        ,  0.        ,  0.        , -3.97605332,  5.18      ,\n",
       "        0.92      ,  0.        , -1.1275194 , -0.21      ])"
      ]
     },
     "execution_count": 38,
     "metadata": {},
     "output_type": "execute_result"
    }
   ],
   "source": [
    "H @ z"
   ]
  },
  {
   "cell_type": "code",
   "execution_count": 53,
   "metadata": {},
   "outputs": [
    {
     "ename": "NameError",
     "evalue": "name 'case_two' is not defined",
     "output_type": "error",
     "traceback": [
      "\u001b[1;31m---------------------------------------------------------------------------\u001b[0m",
      "\u001b[1;31mNameError\u001b[0m                                 Traceback (most recent call last)",
      "Cell \u001b[1;32mIn[53], line 3\u001b[0m\n\u001b[0;32m      1\u001b[0m \u001b[38;5;28;01mfrom\u001b[39;00m \u001b[38;5;21;01mprzypadek2\u001b[39;00m \u001b[38;5;28;01mimport\u001b[39;00m \u001b[38;5;241m*\u001b[39m\n\u001b[1;32m----> 3\u001b[0m H, z \u001b[38;5;241m=\u001b[39m \u001b[43mcase_two\u001b[49m(D, z)\n",
      "\u001b[1;31mNameError\u001b[0m: name 'case_two' is not defined"
     ]
    }
   ],
   "source": [
    "from przypadek2 import *\n",
    "\n",
    "H, z = case_two(D, z)"
   ]
  },
  {
   "cell_type": "code",
   "execution_count": 44,
   "metadata": {},
   "outputs": [
    {
     "data": {
      "text/plain": [
       "array([[ 1.        ,  0.        ,  0.        ,  0.        ,  0.        ,\n",
       "         0.        ,  0.        ,  0.        ,  0.        ],\n",
       "       [ 0.        ,  0.84757415,  0.        ,  0.53067699,  0.        ,\n",
       "         0.        ,  0.        ,  0.        ,  0.        ],\n",
       "       [ 0.        ,  0.        ,  1.        ,  0.        ,  0.        ,\n",
       "         0.        ,  0.        ,  0.        ,  0.        ],\n",
       "       [ 0.        ,  0.53067699,  0.        , -0.84757415,  0.        ,\n",
       "         0.        ,  0.        ,  0.        ,  0.        ],\n",
       "       [ 0.        ,  0.        ,  0.        ,  0.        ,  1.        ,\n",
       "         0.        ,  0.        ,  0.        ,  0.        ],\n",
       "       [ 0.        ,  0.        ,  0.        ,  0.        ,  0.        ,\n",
       "         1.        ,  0.        ,  0.        ,  0.        ],\n",
       "       [ 0.        ,  0.        ,  0.        ,  0.        ,  0.        ,\n",
       "         0.        ,  0.99333102, -0.11529735,  0.        ],\n",
       "       [ 0.        ,  0.        ,  0.        ,  0.        ,  0.        ,\n",
       "         0.        , -0.11529735, -0.99333102,  0.        ],\n",
       "       [ 0.        ,  0.        ,  0.        ,  0.        ,  0.        ,\n",
       "         0.        ,  0.        ,  0.        ,  1.        ]])"
      ]
     },
     "execution_count": 44,
     "metadata": {},
     "output_type": "execute_result"
    }
   ],
   "source": [
    "H"
   ]
  },
  {
   "cell_type": "code",
   "execution_count": 45,
   "metadata": {},
   "outputs": [
    {
     "data": {
      "text/plain": [
       "array([ 0.  , -2.11,  0.  ,  3.37,  5.18,  0.92,  0.13,  1.12, -0.21])"
      ]
     },
     "execution_count": 45,
     "metadata": {},
     "output_type": "execute_result"
    }
   ],
   "source": [
    "z"
   ]
  },
  {
   "cell_type": "markdown",
   "metadata": {},
   "source": [
    "Teraz dopiero odpalamy przypadek nr 1 -- ale uwaga! Robimy to na macierzy $HAH^T = D + \\tilde{z}\\tilde{z}^T$!"
   ]
  },
  {
   "cell_type": "code",
   "execution_count": 50,
   "metadata": {},
   "outputs": [
    {
     "data": {
      "text/plain": [
       "array([ 0.  , -2.11,  0.  ,  3.37,  5.18,  0.92,  0.13,  1.12, -0.21])"
      ]
     },
     "execution_count": 50,
     "metadata": {},
     "output_type": "execute_result"
    }
   ],
   "source": [
    "assert D.shape[0] == D.shape[1]\n",
    "assert D.shape[0] == z.shape[0]\n",
    "assert np.array_equal(D, np.diag(np.diag(D)))\n",
    "\n",
    "N = D.shape[0]\n",
    "\n",
    "z = H @ z # Macierz D pozostaje bez zmian\n",
    "\n",
    "ind = sum(z == 0)\n",
    "perm = (z == 0)\n",
    "\n",
    "P = np.eye(N)\n",
    "P = np.block([\n",
    "    [P[perm, :][:, perm], P[perm, :][:, ~perm]],\n",
    "    [P[~perm, :][:, perm], P[~perm, :][:, ~perm]]\n",
    "])\n",
    "\n",
    "z"
   ]
  }
 ],
 "metadata": {
  "kernelspec": {
   "display_name": "Python 3",
   "language": "python",
   "name": "python3"
  },
  "language_info": {
   "codemirror_mode": {
    "name": "ipython",
    "version": 3
   },
   "file_extension": ".py",
   "mimetype": "text/x-python",
   "name": "python",
   "nbconvert_exporter": "python",
   "pygments_lexer": "ipython3",
   "version": "3.11.0"
  }
 },
 "nbformat": 4,
 "nbformat_minor": 2
}
