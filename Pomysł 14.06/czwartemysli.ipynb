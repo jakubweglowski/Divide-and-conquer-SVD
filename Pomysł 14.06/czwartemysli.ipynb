{
 "cells": [
  {
   "cell_type": "code",
   "execution_count": 1,
   "metadata": {},
   "outputs": [],
   "source": [
    "import numpy as np"
   ]
  },
  {
   "cell_type": "markdown",
   "metadata": {},
   "source": [
    "Rozpoczynamy od przypadku nr 2:"
   ]
  },
  {
   "cell_type": "code",
   "execution_count": 118,
   "metadata": {},
   "outputs": [],
   "source": [
    "# Teraz trzeba rozwiązać pełne zadanie własne macierzy D^2 + z*z^T\n",
    "# W tym celu stworzymy sobie inną macierz diagonalną D oraz inny wektor z\n",
    "D = np.diag([-0.11, 0.23, 0.23, 0.23, 0.38, 0.49, 1.13, 1.13, 1.95])\n",
    "z = np.array([0., -2.11, 0, 3.37, 5.18, 0.92, 0.13, 1.12, -0.21])\n",
    "\n",
    "N = D.shape[0]\n",
    "\n",
    "A = D + z.reshape((N, 1)) @ z.reshape((1, N))"
   ]
  },
  {
   "cell_type": "code",
   "execution_count": 119,
   "metadata": {},
   "outputs": [
    {
     "data": {
      "text/plain": [
       "array([[-0.11,  0.  ,  0.  ,  0.  ,  0.  ,  0.  ,  0.  ,  0.  ,  0.  ],\n",
       "       [ 0.  ,  0.23,  0.  ,  0.  ,  0.  ,  0.  ,  0.  ,  0.  ,  0.  ],\n",
       "       [ 0.  ,  0.  ,  0.23,  0.  ,  0.  ,  0.  ,  0.  ,  0.  ,  0.  ],\n",
       "       [ 0.  ,  0.  ,  0.  ,  0.23,  0.  ,  0.  ,  0.  ,  0.  ,  0.  ],\n",
       "       [ 0.  ,  0.  ,  0.  ,  0.  ,  0.38,  0.  ,  0.  ,  0.  ,  0.  ],\n",
       "       [ 0.  ,  0.  ,  0.  ,  0.  ,  0.  ,  0.49,  0.  ,  0.  ,  0.  ],\n",
       "       [ 0.  ,  0.  ,  0.  ,  0.  ,  0.  ,  0.  ,  1.13,  0.  ,  0.  ],\n",
       "       [ 0.  ,  0.  ,  0.  ,  0.  ,  0.  ,  0.  ,  0.  ,  1.13,  0.  ],\n",
       "       [ 0.  ,  0.  ,  0.  ,  0.  ,  0.  ,  0.  ,  0.  ,  0.  ,  1.95]])"
      ]
     },
     "execution_count": 119,
     "metadata": {},
     "output_type": "execute_result"
    }
   ],
   "source": [
    "D"
   ]
  },
  {
   "cell_type": "code",
   "execution_count": 120,
   "metadata": {},
   "outputs": [
    {
     "data": {
      "text/plain": [
       "array([ 0.  , -2.11,  0.  ,  3.37,  5.18,  0.92,  0.13,  1.12, -0.21])"
      ]
     },
     "execution_count": 120,
     "metadata": {},
     "output_type": "execute_result"
    }
   ],
   "source": [
    "z"
   ]
  },
  {
   "cell_type": "code",
   "execution_count": 121,
   "metadata": {},
   "outputs": [
    {
     "data": {
      "text/plain": [
       "{-0.11: [0], 0.23: [1, 2, 3], 0.38: [4], 0.49: [5], 1.13: [6, 7], 1.95: [8]}"
      ]
     },
     "execution_count": 121,
     "metadata": {},
     "output_type": "execute_result"
    }
   ],
   "source": [
    "def count_elements(arr: np.array) -> dict:\n",
    "    \n",
    "    retdict = {}\n",
    "    for i, a in enumerate(arr):\n",
    "        if retdict.get(a) is None:\n",
    "            retdict[a] = [i]\n",
    "        else:\n",
    "            retdict[a].append(i)\n",
    "    return retdict\n",
    "\n",
    "ce = count_elements(np.diag(D))\n",
    "ce"
   ]
  },
  {
   "cell_type": "code",
   "execution_count": 122,
   "metadata": {},
   "outputs": [
    {
     "name": "stdout",
     "output_type": "stream",
     "text": [
      "Pojedyncze di=-0.11 na indeksie [0].\n",
      "Blok odpowiadający di=0.23 na indeksach [1, 2, 3]\n",
      "Pojedyncze di=0.38 na indeksie [4].\n",
      "Pojedyncze di=0.49 na indeksie [5].\n",
      "Blok odpowiadający di=1.13 na indeksach [6, 7]\n",
      "Pojedyncze di=1.95 na indeksie [8].\n"
     ]
    }
   ],
   "source": [
    "H = np.eye(N)\n",
    "for key, val in ce.items():\n",
    "        \n",
    "    if len(val) > 1:\n",
    "        print(f\"Blok odpowiadający di={key} na indeksach {val}\")\n",
    "        \n",
    "        i = val[0]\n",
    "        k = len(val)\n",
    "        \n",
    "        u = z[val]\n",
    "        u[-1] += np.linalg.norm(u)\n",
    "        v = u/np.linalg.norm(u)\n",
    "        Hi = np.eye(k) - 2 * v.reshape((k, 1)) @ v.reshape((1, k))\n",
    "        \n",
    "        for row in range(i, i+k):\n",
    "            for col in range(i, i+k):\n",
    "                H[row, col] = Hi[row-i, col-i]\n",
    "    else:\n",
    "        print(f\"Pojedyncze di={key} na indeksie {val}.\")"
   ]
  },
  {
   "cell_type": "code",
   "execution_count": 123,
   "metadata": {},
   "outputs": [
    {
     "data": {
      "text/plain": [
       "array([[ 1.        ,  0.        ,  0.        ,  0.        ,  0.        ,\n",
       "         0.        ,  0.        ,  0.        ,  0.        ],\n",
       "       [ 0.        ,  0.84757415,  0.        ,  0.53067699,  0.        ,\n",
       "         0.        ,  0.        ,  0.        ,  0.        ],\n",
       "       [ 0.        ,  0.        ,  1.        ,  0.        ,  0.        ,\n",
       "         0.        ,  0.        ,  0.        ,  0.        ],\n",
       "       [ 0.        ,  0.53067699,  0.        , -0.84757415,  0.        ,\n",
       "         0.        ,  0.        ,  0.        ,  0.        ],\n",
       "       [ 0.        ,  0.        ,  0.        ,  0.        ,  1.        ,\n",
       "         0.        ,  0.        ,  0.        ,  0.        ],\n",
       "       [ 0.        ,  0.        ,  0.        ,  0.        ,  0.        ,\n",
       "         1.        ,  0.        ,  0.        ,  0.        ],\n",
       "       [ 0.        ,  0.        ,  0.        ,  0.        ,  0.        ,\n",
       "         0.        ,  0.99333102, -0.11529735,  0.        ],\n",
       "       [ 0.        ,  0.        ,  0.        ,  0.        ,  0.        ,\n",
       "         0.        , -0.11529735, -0.99333102,  0.        ],\n",
       "       [ 0.        ,  0.        ,  0.        ,  0.        ,  0.        ,\n",
       "         0.        ,  0.        ,  0.        ,  1.        ]])"
      ]
     },
     "execution_count": 123,
     "metadata": {},
     "output_type": "execute_result"
    }
   ],
   "source": [
    "H"
   ]
  },
  {
   "cell_type": "code",
   "execution_count": 124,
   "metadata": {},
   "outputs": [
    {
     "data": {
      "text/plain": [
       "array([-0.11,  0.23,  0.23,  0.23,  0.38,  0.49,  1.13,  1.13,  1.95])"
      ]
     },
     "execution_count": 124,
     "metadata": {},
     "output_type": "execute_result"
    }
   ],
   "source": [
    "np.diag(D)"
   ]
  },
  {
   "cell_type": "code",
   "execution_count": 125,
   "metadata": {},
   "outputs": [
    {
     "data": {
      "text/plain": [
       "array([ 0.  , -2.11,  0.  ,  3.37,  5.18,  0.92,  0.13,  1.12, -0.21])"
      ]
     },
     "execution_count": 125,
     "metadata": {},
     "output_type": "execute_result"
    }
   ],
   "source": [
    "z"
   ]
  },
  {
   "cell_type": "code",
   "execution_count": 126,
   "metadata": {},
   "outputs": [
    {
     "data": {
      "text/plain": [
       "array([ 0.        ,  0.        ,  0.        , -3.97605332,  5.18      ,\n",
       "        0.92      ,  0.        , -1.1275194 , -0.21      ])"
      ]
     },
     "execution_count": 126,
     "metadata": {},
     "output_type": "execute_result"
    }
   ],
   "source": [
    "H @ z"
   ]
  },
  {
   "cell_type": "code",
   "execution_count": 127,
   "metadata": {},
   "outputs": [
    {
     "name": "stdout",
     "output_type": "stream",
     "text": [
      "Pojedyncze di=-0.11 na indeksie [0].\n",
      "Blok odpowiadający di=0.23 na indeksach [1, 2, 3]\n",
      "Pojedyncze di=0.38 na indeksie [4].\n",
      "Pojedyncze di=0.49 na indeksie [5].\n",
      "Blok odpowiadający di=1.13 na indeksach [6, 7]\n",
      "Pojedyncze di=1.95 na indeksie [8].\n"
     ]
    }
   ],
   "source": [
    "from importlib import reload\n",
    "import przypadek2\n",
    "reload(przypadek2)\n",
    "from przypadek2 import *\n",
    "\n",
    "H, z = case_two(D, z)"
   ]
  },
  {
   "cell_type": "code",
   "execution_count": 128,
   "metadata": {},
   "outputs": [
    {
     "data": {
      "text/plain": [
       "array([[ 1.        ,  0.        ,  0.        ,  0.        ,  0.        ,\n",
       "         0.        ,  0.        ,  0.        ,  0.        ],\n",
       "       [ 0.        ,  0.84757415,  0.        ,  0.53067699,  0.        ,\n",
       "         0.        ,  0.        ,  0.        ,  0.        ],\n",
       "       [ 0.        ,  0.        ,  1.        ,  0.        ,  0.        ,\n",
       "         0.        ,  0.        ,  0.        ,  0.        ],\n",
       "       [ 0.        ,  0.53067699,  0.        , -0.84757415,  0.        ,\n",
       "         0.        ,  0.        ,  0.        ,  0.        ],\n",
       "       [ 0.        ,  0.        ,  0.        ,  0.        ,  1.        ,\n",
       "         0.        ,  0.        ,  0.        ,  0.        ],\n",
       "       [ 0.        ,  0.        ,  0.        ,  0.        ,  0.        ,\n",
       "         1.        ,  0.        ,  0.        ,  0.        ],\n",
       "       [ 0.        ,  0.        ,  0.        ,  0.        ,  0.        ,\n",
       "         0.        ,  0.99333102, -0.11529735,  0.        ],\n",
       "       [ 0.        ,  0.        ,  0.        ,  0.        ,  0.        ,\n",
       "         0.        , -0.11529735, -0.99333102,  0.        ],\n",
       "       [ 0.        ,  0.        ,  0.        ,  0.        ,  0.        ,\n",
       "         0.        ,  0.        ,  0.        ,  1.        ]])"
      ]
     },
     "execution_count": 128,
     "metadata": {},
     "output_type": "execute_result"
    }
   ],
   "source": [
    "H"
   ]
  },
  {
   "cell_type": "code",
   "execution_count": 129,
   "metadata": {},
   "outputs": [
    {
     "data": {
      "text/plain": [
       "array([ 0.  , -2.11,  0.  ,  3.37,  5.18,  0.92,  0.13,  1.12, -0.21])"
      ]
     },
     "execution_count": 129,
     "metadata": {},
     "output_type": "execute_result"
    }
   ],
   "source": [
    "z"
   ]
  },
  {
   "cell_type": "markdown",
   "metadata": {},
   "source": [
    "Teraz dopiero odpalamy przypadek nr 1 -- ale uwaga! Robimy to na macierzy $HAH^T = D + \\tilde{z}\\tilde{z}^T$!"
   ]
  },
  {
   "cell_type": "code",
   "execution_count": 130,
   "metadata": {},
   "outputs": [
    {
     "data": {
      "text/plain": [
       "array([ 0.        ,  0.        ,  0.        , -3.97605332,  5.18      ,\n",
       "        0.92      ,  0.        , -1.1275194 , -0.21      ])"
      ]
     },
     "execution_count": 130,
     "metadata": {},
     "output_type": "execute_result"
    }
   ],
   "source": [
    "assert D.shape[0] == D.shape[1]\n",
    "assert D.shape[0] == z.shape[0]\n",
    "assert np.array_equal(D, np.diag(np.diag(D)))\n",
    "\n",
    "N = D.shape[0]\n",
    "\n",
    "tildez = H @ z # Macierz D pozostaje bez zmian\n",
    "tildez"
   ]
  },
  {
   "cell_type": "code",
   "execution_count": 131,
   "metadata": {},
   "outputs": [
    {
     "data": {
      "text/plain": [
       "array([ True,  True,  True, False, False, False,  True, False, False])"
      ]
     },
     "execution_count": 131,
     "metadata": {},
     "output_type": "execute_result"
    }
   ],
   "source": [
    "A = D + tildez.reshape((N, 1))@tildez.reshape((1, N))\n",
    "\n",
    "nzeros = sum(np.isclose(tildez, 0, atol=1e-15)) # liczba zer w \"z\"\n",
    "perm = np.isclose(tildez, 0, atol=1e-15) # permutacja przestawiająca zera w \"z\" na początek\n",
    "perm"
   ]
  },
  {
   "cell_type": "code",
   "execution_count": 132,
   "metadata": {},
   "outputs": [
    {
     "data": {
      "text/plain": [
       "4"
      ]
     },
     "execution_count": 132,
     "metadata": {},
     "output_type": "execute_result"
    }
   ],
   "source": [
    "nzeros"
   ]
  },
  {
   "cell_type": "code",
   "execution_count": 133,
   "metadata": {},
   "outputs": [],
   "source": [
    "# macierz permutacji:\n",
    "P = np.eye(N)\n",
    "P = np.vstack((P[perm], P[~perm]))"
   ]
  },
  {
   "cell_type": "code",
   "execution_count": 134,
   "metadata": {},
   "outputs": [
    {
     "data": {
      "text/plain": [
       "array([ 0.        ,  0.        ,  0.        ,  0.        , -3.97605332,\n",
       "        5.18      ,  0.92      , -1.1275194 , -0.21      ])"
      ]
     },
     "execution_count": 134,
     "metadata": {},
     "output_type": "execute_result"
    }
   ],
   "source": [
    "pz = P @ tildez\n",
    "pz"
   ]
  },
  {
   "cell_type": "code",
   "execution_count": 135,
   "metadata": {},
   "outputs": [
    {
     "data": {
      "text/plain": [
       "array([[-0.11,  0.  ,  0.  ,  0.  ,  0.  ,  0.  ,  0.  ,  0.  ,  0.  ],\n",
       "       [ 0.  ,  0.23,  0.  ,  0.  ,  0.  ,  0.  ,  0.  ,  0.  ,  0.  ],\n",
       "       [ 0.  ,  0.  ,  0.23,  0.  ,  0.  ,  0.  ,  0.  ,  0.  ,  0.  ],\n",
       "       [ 0.  ,  0.  ,  0.  ,  1.13,  0.  ,  0.  ,  0.  ,  0.  ,  0.  ],\n",
       "       [ 0.  ,  0.  ,  0.  ,  0.  ,  0.23,  0.  ,  0.  ,  0.  ,  0.  ],\n",
       "       [ 0.  ,  0.  ,  0.  ,  0.  ,  0.  ,  0.38,  0.  ,  0.  ,  0.  ],\n",
       "       [ 0.  ,  0.  ,  0.  ,  0.  ,  0.  ,  0.  ,  0.49,  0.  ,  0.  ],\n",
       "       [ 0.  ,  0.  ,  0.  ,  0.  ,  0.  ,  0.  ,  0.  ,  1.13,  0.  ],\n",
       "       [ 0.  ,  0.  ,  0.  ,  0.  ,  0.  ,  0.  ,  0.  ,  0.  ,  1.95]])"
      ]
     },
     "execution_count": 135,
     "metadata": {},
     "output_type": "execute_result"
    }
   ],
   "source": [
    "pdpt = P @ D @ P.T\n",
    "pdpt"
   ]
  },
  {
   "cell_type": "code",
   "execution_count": 136,
   "metadata": {},
   "outputs": [
    {
     "data": {
      "text/plain": [
       "array([[ -0.11      ,   0.        ,   0.        ,   0.        ,\n",
       "          0.        ,   0.        ,   0.        ,   0.        ,\n",
       "          0.        ],\n",
       "       [  0.        ,   0.23      ,   0.        ,   0.        ,\n",
       "          0.        ,   0.        ,   0.        ,   0.        ,\n",
       "          0.        ],\n",
       "       [  0.        ,   0.        ,   0.23      ,   0.        ,\n",
       "          0.        ,   0.        ,   0.        ,   0.        ,\n",
       "          0.        ],\n",
       "       [  0.        ,   0.        ,   0.        ,   1.13      ,\n",
       "          0.        ,   0.        ,   0.        ,   0.        ,\n",
       "          0.        ],\n",
       "       [  0.        ,   0.        ,   0.        ,   0.        ,\n",
       "         16.039     , -20.5959562 ,  -3.65796905,   4.48307726,\n",
       "          0.8349712 ],\n",
       "       [  0.        ,   0.        ,   0.        ,   0.        ,\n",
       "        -20.5959562 ,  27.2124    ,   4.7656    ,  -5.8405505 ,\n",
       "         -1.0878    ],\n",
       "       [  0.        ,   0.        ,   0.        ,   0.        ,\n",
       "         -3.65796905,   4.7656    ,   1.3364    ,  -1.03731785,\n",
       "         -0.1932    ],\n",
       "       [  0.        ,   0.        ,   0.        ,   0.        ,\n",
       "          4.48307726,  -5.8405505 ,  -1.03731785,   2.4013    ,\n",
       "          0.23677907],\n",
       "       [  0.        ,   0.        ,   0.        ,   0.        ,\n",
       "          0.8349712 ,  -1.0878    ,  -0.1932    ,   0.23677907,\n",
       "          1.9941    ]])"
      ]
     },
     "execution_count": 136,
     "metadata": {},
     "output_type": "execute_result"
    }
   ],
   "source": [
    "papt = P @ A @ P.T\n",
    "papt"
   ]
  },
  {
   "cell_type": "code",
   "execution_count": 137,
   "metadata": {},
   "outputs": [],
   "source": [
    "Anew = papt[nzeros:, nzeros:]\n",
    "Dnew = pdpt[nzeros:, nzeros:]\n",
    "znew = pz[nzeros:]"
   ]
  },
  {
   "cell_type": "code",
   "execution_count": 138,
   "metadata": {},
   "outputs": [
    {
     "data": {
      "text/plain": [
       "array([[ 16.039     , -20.5959562 ,  -3.65796905,   4.48307726,\n",
       "          0.8349712 ],\n",
       "       [-20.5959562 ,  27.2124    ,   4.7656    ,  -5.8405505 ,\n",
       "         -1.0878    ],\n",
       "       [ -3.65796905,   4.7656    ,   1.3364    ,  -1.03731785,\n",
       "         -0.1932    ],\n",
       "       [  4.48307726,  -5.8405505 ,  -1.03731785,   2.4013    ,\n",
       "          0.23677907],\n",
       "       [  0.8349712 ,  -1.0878    ,  -0.1932    ,   0.23677907,\n",
       "          1.9941    ]])"
      ]
     },
     "execution_count": 138,
     "metadata": {},
     "output_type": "execute_result"
    }
   ],
   "source": [
    "Anew"
   ]
  },
  {
   "cell_type": "code",
   "execution_count": 139,
   "metadata": {},
   "outputs": [
    {
     "data": {
      "text/plain": [
       "array([[ 16.039     , -20.5959562 ,  -3.65796905,   4.48307726,\n",
       "          0.8349712 ],\n",
       "       [-20.5959562 ,  27.2124    ,   4.7656    ,  -5.8405505 ,\n",
       "         -1.0878    ],\n",
       "       [ -3.65796905,   4.7656    ,   1.3364    ,  -1.03731785,\n",
       "         -0.1932    ],\n",
       "       [  4.48307726,  -5.8405505 ,  -1.03731785,   2.4013    ,\n",
       "          0.23677907],\n",
       "       [  0.8349712 ,  -1.0878    ,  -0.1932    ,   0.23677907,\n",
       "          1.9941    ]])"
      ]
     },
     "execution_count": 139,
     "metadata": {},
     "output_type": "execute_result"
    }
   ],
   "source": [
    "Dnew + znew.reshape((N-nzeros, 1))@znew.reshape((1, N-nzeros))"
   ]
  },
  {
   "cell_type": "code",
   "execution_count": 140,
   "metadata": {},
   "outputs": [
    {
     "data": {
      "text/plain": [
       "array([ 0.  , -2.11,  0.  ,  3.37,  5.18,  0.92,  0.13,  1.12, -0.21])"
      ]
     },
     "execution_count": 140,
     "metadata": {},
     "output_type": "execute_result"
    }
   ],
   "source": [
    "z"
   ]
  },
  {
   "cell_type": "code",
   "execution_count": 141,
   "metadata": {},
   "outputs": [
    {
     "data": {
      "text/plain": [
       "array([ 0.        ,  0.        ,  0.        , -3.97605332,  5.18      ,\n",
       "        0.92      ,  0.        , -1.1275194 , -0.21      ])"
      ]
     },
     "execution_count": 141,
     "metadata": {},
     "output_type": "execute_result"
    }
   ],
   "source": [
    "tildez"
   ]
  },
  {
   "cell_type": "code",
   "execution_count": 148,
   "metadata": {},
   "outputs": [],
   "source": [
    "from importlib import reload\n",
    "import przypadek1\n",
    "reload(przypadek1)\n",
    "from przypadek1 import *\n",
    "\n",
    "Dnew, znew, P, nzeros = case_one(D, tildez)"
   ]
  },
  {
   "cell_type": "code",
   "execution_count": 149,
   "metadata": {},
   "outputs": [
    {
     "data": {
      "text/plain": [
       "array([[0.23, 0.  , 0.  , 0.  , 0.  ],\n",
       "       [0.  , 0.38, 0.  , 0.  , 0.  ],\n",
       "       [0.  , 0.  , 0.49, 0.  , 0.  ],\n",
       "       [0.  , 0.  , 0.  , 1.13, 0.  ],\n",
       "       [0.  , 0.  , 0.  , 0.  , 1.95]])"
      ]
     },
     "execution_count": 149,
     "metadata": {},
     "output_type": "execute_result"
    }
   ],
   "source": [
    "Dnew"
   ]
  },
  {
   "cell_type": "code",
   "execution_count": 150,
   "metadata": {},
   "outputs": [
    {
     "data": {
      "text/plain": [
       "array([-3.97605332,  5.18      ,  0.92      , -1.1275194 , -0.21      ])"
      ]
     },
     "execution_count": 150,
     "metadata": {},
     "output_type": "execute_result"
    }
   ],
   "source": [
    "znew"
   ]
  },
  {
   "cell_type": "code",
   "execution_count": 151,
   "metadata": {},
   "outputs": [
    {
     "data": {
      "text/plain": [
       "array([[1., 0., 0., 0., 0., 0., 0., 0., 0.],\n",
       "       [0., 1., 0., 0., 0., 0., 0., 0., 0.],\n",
       "       [0., 0., 1., 0., 0., 0., 0., 0., 0.],\n",
       "       [0., 0., 0., 0., 0., 0., 1., 0., 0.],\n",
       "       [0., 0., 0., 1., 0., 0., 0., 0., 0.],\n",
       "       [0., 0., 0., 0., 1., 0., 0., 0., 0.],\n",
       "       [0., 0., 0., 0., 0., 1., 0., 0., 0.],\n",
       "       [0., 0., 0., 0., 0., 0., 0., 1., 0.],\n",
       "       [0., 0., 0., 0., 0., 0., 0., 0., 1.]])"
      ]
     },
     "execution_count": 151,
     "metadata": {},
     "output_type": "execute_result"
    }
   ],
   "source": [
    "P"
   ]
  },
  {
   "cell_type": "code",
   "execution_count": 152,
   "metadata": {},
   "outputs": [
    {
     "data": {
      "text/plain": [
       "4"
      ]
     },
     "execution_count": 152,
     "metadata": {},
     "output_type": "execute_result"
    }
   ],
   "source": [
    "nzeros"
   ]
  }
 ],
 "metadata": {
  "kernelspec": {
   "display_name": "Python 3",
   "language": "python",
   "name": "python3"
  },
  "language_info": {
   "codemirror_mode": {
    "name": "ipython",
    "version": 3
   },
   "file_extension": ".py",
   "mimetype": "text/x-python",
   "name": "python",
   "nbconvert_exporter": "python",
   "pygments_lexer": "ipython3",
   "version": "3.11.0"
  }
 },
 "nbformat": 4,
 "nbformat_minor": 2
}
